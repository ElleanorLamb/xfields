{
 "cells": [
  {
   "cell_type": "code",
   "execution_count": 1,
   "metadata": {
    "collapsed": false
   },
   "outputs": [
    {
     "name": "stdout",
     "output_type": "stream",
     "text": [
      "PyKLU not found\n"
     ]
    }
   ],
   "source": [
    "# pycuda, numpy, scipy, matplotlib\n",
    "import os\n",
    "\n",
    "os.environ[\"CUDA_DEVICE\"] = \"3\"\n",
    "from pycuda.autoinit import context\n",
    "import pycuda.driver as drv\n",
    "from pycuda import cumath\n",
    "from pycuda import gpuarray\n",
    "from scipy.optimize import curve_fit\n",
    "import numpy as np\n",
    "import matplotlib.pyplot as plt\n",
    "from scipy.constants import e, epsilon_0\n",
    "\n",
    "from pypic import PyPIC_GPU as PIC\n",
    "from meshing import RectMesh2D\n",
    "from poisson_solver import FFT_solver as FFT\n",
    "\n",
    "import sys\n",
    "sys.path.append('../')\n",
    "sys.path.append('old/')\n",
    "import FFT_OpenBoundary_SquareGrid as PIC_old\n",
    "import geom_impact_poly as poly\n",
    "import geom_impact_ellip as ell\n",
    "\n",
    "%matplotlib inline"
   ]
  },
  {
   "cell_type": "markdown",
   "metadata": {},
   "source": [
    "## define mesh, poisson solver and pic"
   ]
  },
  {
   "cell_type": "code",
   "execution_count": 2,
   "metadata": {
    "collapsed": false
   },
   "outputs": [],
   "source": [
    "nx, ny = 256, 256\n",
    "dx = dy = 0.04\n",
    "x_aper = nx*dx/2.\n",
    "y_aper = ny*dy/2.\n",
    "mesh = RectMesh2D(-x_aper, -y_aper, dx, dy, nx, ny, mathlib=cumath)\n",
    "poissonsolver = FFT.GPUFFTPoissonSolver2D(mesh)\n",
    "pic = PIC(mesh, poissonsolver, context=context)"
   ]
  },
  {
   "cell_type": "markdown",
   "metadata": {},
   "source": [
    "## generate particles\n",
    "make sure they're inside the mesh boundaries"
   ]
  },
  {
   "cell_type": "code",
   "execution_count": 3,
   "metadata": {
    "collapsed": false
   },
   "outputs": [],
   "source": [
    "N = 500*1024\n",
    "np.random.seed(0)\n",
    "mesh_center_x = mesh.x0 + 0.5*mesh.nx*mesh.dx\n",
    "mesh_center_y = mesh.y0 + 0.5*mesh.ny*mesh.dy\n",
    "sigma = 0.4\n",
    "xx = np.random.normal(mesh_center_x, sigma, N)\n",
    "yy = np.random.normal(mesh_center_y, sigma, N)\n",
    "assert((xx > mesh.x0).all() and (xx < mesh.x0 + mesh.nx*mesh.dx).all())\n",
    "assert((yy > mesh.y0).all() and (yy < mesh.y0 + mesh.ny*mesh.dy).all())\n",
    "xx = gpuarray.to_gpu(xx)\n",
    "yy = gpuarray.to_gpu(yy)"
   ]
  },
  {
   "cell_type": "markdown",
   "metadata": {},
   "source": [
    "### convenience wrapper which runs the pic and stores all intermediate results"
   ]
  },
  {
   "cell_type": "code",
   "execution_count": 4,
   "metadata": {
    "collapsed": true
   },
   "outputs": [],
   "source": [
    "def test_solver(new_solver, xx, yy, charge=e, x_probe=None, y_probe=None, z_probe=None):\n",
    "    '''\n",
    "    Return rho, Phi, efx, efy, Ex, Ey\n",
    "    '''\n",
    "    if x_probe == None:\n",
    "        x_probe = xx\n",
    "    if y_probe == None:\n",
    "        y_probe = yy\n",
    "    mesh_charges = new_solver.particles_to_mesh(xx, yy, charge=charge)\n",
    "    rho = mesh_charges/new_solver.mesh.volume_elem\n",
    "    phi = new_solver.poisson_solve(rho)\n",
    "    mesh_e_fields = new_solver.get_electric_fields(phi)\n",
    "    efx = mesh_e_fields[0]\n",
    "    efy = mesh_e_fields[1]\n",
    "    mesh_fields_and_mp_coords = zip(list(mesh_e_fields), [x_probe, y_probe])\n",
    "    fields = new_solver.field_to_particles(*mesh_fields_and_mp_coords)\n",
    "    Ex = fields[0]\n",
    "    Ey = fields[1]\n",
    "    return rho, phi, efx, efy, Ex, Ey"
   ]
  },
  {
   "cell_type": "markdown",
   "metadata": {},
   "source": [
    "## Run the pic and store the results"
   ]
  },
  {
   "cell_type": "code",
   "execution_count": 5,
   "metadata": {
    "collapsed": false
   },
   "outputs": [
    {
     "ename": "ArgumentError",
     "evalue": "Python argument types in\n    Memcpy2D.__call__(Memcpy2D)\ndid not match C++ signature:\n    __call__(pycuda::memcpy_2d {lvalue}, pycuda::stream)\n    __call__(pycuda::memcpy_2d {lvalue} self, bool aligned)",
     "output_type": "error",
     "traceback": [
      "\u001b[1;31m---------------------------------------------------------------------------\u001b[0m",
      "\u001b[1;31mArgumentError\u001b[0m                             Traceback (most recent call last)",
      "\u001b[1;32m<ipython-input-5-ab3d5279cb89>\u001b[0m in \u001b[0;36m<module>\u001b[1;34m()\u001b[0m\n\u001b[1;32m----> 1\u001b[1;33m \u001b[0mrho\u001b[0m\u001b[1;33m,\u001b[0m \u001b[0mphi\u001b[0m\u001b[1;33m,\u001b[0m \u001b[0mefx\u001b[0m\u001b[1;33m,\u001b[0m \u001b[0mefy\u001b[0m\u001b[1;33m,\u001b[0m \u001b[0mEx\u001b[0m\u001b[1;33m,\u001b[0m \u001b[0mEy\u001b[0m \u001b[1;33m=\u001b[0m \u001b[0mtest_solver\u001b[0m\u001b[1;33m(\u001b[0m\u001b[0mpic\u001b[0m\u001b[1;33m,\u001b[0m \u001b[0mxx\u001b[0m\u001b[1;33m,\u001b[0m \u001b[0myy\u001b[0m\u001b[1;33m)\u001b[0m\u001b[1;33m\u001b[0m\u001b[0m\n\u001b[0m",
      "\u001b[1;32m<ipython-input-4-600b3fcc9527>\u001b[0m in \u001b[0;36mtest_solver\u001b[1;34m(new_solver, xx, yy, charge, x_probe, y_probe, z_probe)\u001b[0m\n\u001b[0;32m      9\u001b[0m     \u001b[0mmesh_charges\u001b[0m \u001b[1;33m=\u001b[0m \u001b[0mnew_solver\u001b[0m\u001b[1;33m.\u001b[0m\u001b[0mparticles_to_mesh\u001b[0m\u001b[1;33m(\u001b[0m\u001b[0mxx\u001b[0m\u001b[1;33m,\u001b[0m \u001b[0myy\u001b[0m\u001b[1;33m,\u001b[0m \u001b[0mcharge\u001b[0m\u001b[1;33m=\u001b[0m\u001b[0mcharge\u001b[0m\u001b[1;33m)\u001b[0m\u001b[1;33m\u001b[0m\u001b[0m\n\u001b[0;32m     10\u001b[0m     \u001b[0mrho\u001b[0m \u001b[1;33m=\u001b[0m \u001b[0mmesh_charges\u001b[0m\u001b[1;33m/\u001b[0m\u001b[0mnew_solver\u001b[0m\u001b[1;33m.\u001b[0m\u001b[0mmesh\u001b[0m\u001b[1;33m.\u001b[0m\u001b[0mvolume_elem\u001b[0m\u001b[1;33m\u001b[0m\u001b[0m\n\u001b[1;32m---> 11\u001b[1;33m     \u001b[0mphi\u001b[0m \u001b[1;33m=\u001b[0m \u001b[0mnew_solver\u001b[0m\u001b[1;33m.\u001b[0m\u001b[0mpoisson_solve\u001b[0m\u001b[1;33m(\u001b[0m\u001b[0mrho\u001b[0m\u001b[1;33m)\u001b[0m\u001b[1;33m\u001b[0m\u001b[0m\n\u001b[0m\u001b[0;32m     12\u001b[0m     \u001b[0mmesh_e_fields\u001b[0m \u001b[1;33m=\u001b[0m \u001b[0mnew_solver\u001b[0m\u001b[1;33m.\u001b[0m\u001b[0mget_electric_fields\u001b[0m\u001b[1;33m(\u001b[0m\u001b[0mphi\u001b[0m\u001b[1;33m)\u001b[0m\u001b[1;33m\u001b[0m\u001b[0m\n\u001b[0;32m     13\u001b[0m     \u001b[0mefx\u001b[0m \u001b[1;33m=\u001b[0m \u001b[0mmesh_e_fields\u001b[0m\u001b[1;33m[\u001b[0m\u001b[1;36m0\u001b[0m\u001b[1;33m]\u001b[0m\u001b[1;33m\u001b[0m\u001b[0m\n",
      "\u001b[1;32m/home/shegglin/PyPIC/pypic.pyc\u001b[0m in \u001b[0;36mpoisson_solve\u001b[1;34m(self, mesh_charges)\u001b[0m\n\u001b[0;32m    117\u001b[0m         '''\n\u001b[0;32m    118\u001b[0m         \u001b[1;31m# does self._context.synchronize() within solve\u001b[0m\u001b[1;33m\u001b[0m\u001b[1;33m\u001b[0m\u001b[0m\n\u001b[1;32m--> 119\u001b[1;33m         \u001b[1;32mreturn\u001b[0m \u001b[0mself\u001b[0m\u001b[1;33m.\u001b[0m\u001b[0mpoissonsolver\u001b[0m\u001b[1;33m.\u001b[0m\u001b[0mpoisson_solve\u001b[0m\u001b[1;33m(\u001b[0m\u001b[0mmesh_charges\u001b[0m\u001b[1;33m)\u001b[0m\u001b[1;33m\u001b[0m\u001b[0m\n\u001b[0m\u001b[0;32m    120\u001b[0m     \u001b[1;32mdef\u001b[0m \u001b[0mpoisson_cholsolve\u001b[0m\u001b[1;33m(\u001b[0m\u001b[0mself\u001b[0m\u001b[1;33m,\u001b[0m \u001b[0mrho\u001b[0m\u001b[1;33m)\u001b[0m\u001b[1;33m:\u001b[0m\u001b[1;33m\u001b[0m\u001b[0m\n\u001b[0;32m    121\u001b[0m         \u001b[1;34m'''test only'''\u001b[0m\u001b[1;33m\u001b[0m\u001b[0m\n",
      "\u001b[1;32m/home/shegglin/PyPIC/poisson_solver/FFT_solver.py\u001b[0m in \u001b[0;36mpoisson_solve\u001b[1;34m(self, rho)\u001b[0m\n\u001b[0;32m    259\u001b[0m         \u001b[1;31m#        src_pitch=self.tmpspace.strides[0],\u001b[0m\u001b[1;33m\u001b[0m\u001b[1;33m\u001b[0m\u001b[0m\n\u001b[0;32m    260\u001b[0m         \u001b[1;31m#        dst_pitch=rho.strides[0])\u001b[0m\u001b[1;33m\u001b[0m\u001b[1;33m\u001b[0m\u001b[0m\n\u001b[1;32m--> 261\u001b[1;33m         \u001b[0mcopy_d2d_rho2tmp\u001b[0m\u001b[1;33m(\u001b[0m\u001b[1;33m)\u001b[0m\u001b[1;33m\u001b[0m\u001b[0m\n\u001b[0m\u001b[0;32m    262\u001b[0m         \u001b[1;31m#from pycuda import gpuarray\u001b[0m\u001b[1;33m\u001b[0m\u001b[1;33m\u001b[0m\u001b[0m\n\u001b[0;32m    263\u001b[0m         \u001b[1;31m#mat = rho\u001b[0m\u001b[1;33m\u001b[0m\u001b[1;33m\u001b[0m\u001b[0m\n",
      "\u001b[1;31mArgumentError\u001b[0m: Python argument types in\n    Memcpy2D.__call__(Memcpy2D)\ndid not match C++ signature:\n    __call__(pycuda::memcpy_2d {lvalue}, pycuda::stream)\n    __call__(pycuda::memcpy_2d {lvalue} self, bool aligned)"
     ]
    }
   ],
   "source": [
    "rho, phi, efx, efy, Ex, Ey = test_solver(pic, xx, yy)"
   ]
  },
  {
   "cell_type": "markdown",
   "metadata": {},
   "source": [
    "### Run the old solver for comparison"
   ]
  },
  {
   "cell_type": "code",
   "execution_count": null,
   "metadata": {
    "collapsed": false
   },
   "outputs": [],
   "source": [
    "print rho\n",
    "pic_old = PIC_old.FFT_OpenBoundary_SquareGrid(x_aper=x_aper, y_aper=y_aper, Dh = mesh.dx, fftlib='pyfftw')\n",
    "nel_part = np.zeros(len(xx.get()))+1\n",
    "pic_old.scatter(xx.get(), yy.get(), nel_part, charge=e)\n",
    "pic_old.solve()"
   ]
  },
  {
   "cell_type": "markdown",
   "metadata": {},
   "source": [
    "### Analytical solution for a round beam in free space"
   ]
  },
  {
   "cell_type": "code",
   "execution_count": null,
   "metadata": {
    "collapsed": false
   },
   "outputs": [],
   "source": [
    "def _phin_round(x, y, sig_r):\n",
    "    '''Return phi / Q for a round distribution with\n",
    "    sigma_x == sigma_y == sigma_z == sig_r .\n",
    "    '''\n",
    "    r = np.sqrt(x**2 + y**2 )\n",
    "    #return erf(r/(np.sqrt(2)*sig_r)) *(-1)*np.log(r)/ (2*np.pi*epsilon_0)\n",
    "    return (-1)*np.log(r)/ (2*np.pi*epsilon_0)\n",
    "\n",
    "from scipy.special import erf\n",
    "extent = np.array([mesh.x0, mesh.x0+mesh.nx*mesh.dx,\n",
    "                   mesh.y0, mesh.y0+mesh.ny*mesh.dy])\n",
    "y, x = np.meshgrid(   np.linspace(extent[2], extent[3], mesh.ny),\n",
    "                      np.linspace(extent[0], extent[1], mesh.nx),\n",
    "                      indexing=\"ij\")\n",
    "xr = x - mesh_center_x - 0.5*mesh.dx\n",
    "yr = y - mesh_center_y - 0.5*mesh.dy\n",
    "sig_x = sigma\n",
    "phi_analytic = _phin_round(xr, yr, sig_x) * N * e"
   ]
  },
  {
   "cell_type": "markdown",
   "metadata": {},
   "source": [
    "## Plot the results"
   ]
  },
  {
   "cell_type": "code",
   "execution_count": null,
   "metadata": {
    "collapsed": false
   },
   "outputs": [],
   "source": [
    "# rho\n",
    "plt.figure()\n",
    "plt.imshow(rho.get(), origin='lower', interpolation='none')\n",
    "plt.colorbar()\n",
    "plt.title('rho')\n",
    "plt.xlabel('x [cell]')\n",
    "plt.ylabel('y [cell]')\n",
    "plt.show()\n",
    "\n",
    "# Phi 2d\n",
    "f = plt.figure()\n",
    "f.set_figheight(8)\n",
    "f.set_figwidth(15)\n",
    "im =plt.imshow(phi.get(), origin='lower', interpolation='none')\n",
    "plt.title('Phi')\n",
    "plt.xlabel('x [cell]')\n",
    "plt.ylabel('y [cell]')\n",
    "f.subplots_adjust(right=0.8)\n",
    "cbar_ax = f.add_axes([0.85, 0.15, 0.05, 0.7])\n",
    "f.colorbar(im, cax=cbar_ax)\n",
    "plt.show()\n",
    "\n",
    "# Phi compare with analytical results and a 1/r fit\n",
    "def fn(r, a):\n",
    "    '''Analytical solution fit'''\n",
    "    return a*1./np.log(r)\n",
    "\n",
    "xxx = np.arange(mesh.x0, mesh.x0+mesh.nx*mesh.dx, dx)\n",
    "start_fit = mesh.nx/2 + 4\n",
    "fit_xxx = xxx[start_fit:]\n",
    "#popt_GPU, _ = curve_fit(fn, fit_xxx, phi.get()[mesh.ny//2, start_fit:])\n",
    "f, axarr = plt.subplots(2, sharex=True)\n",
    "f.set_figheight(10)\n",
    "f.set_figwidth(10)\n",
    "axarr[0].set_title('Phi along ny/2')\n",
    "axarr[0].plot(xxx,phi.get()[mesh.ny//2,:],label = 'numerical solution')\n",
    "axarr[0].plot(xxx, phi_analytic[mesh.ny//2, :], label= 'analytical solution')\n",
    "#axarr[0].plot(fit_xxx, fn(fit_xxx, *popt_GPU), label='log fit')\n",
    "axarr[0].set_ylabel('Phi')\n",
    "axarr[0].set_xlabel('x')\n",
    "\n",
    "axarr[0].legend()\n",
    "axarr[1].set_title('Particle distribution')\n",
    "axarr[1].hist(xx.get())\n",
    "axarr[1].set_xlabel('x')\n",
    "axarr[1].set_ylabel('# particles')\n",
    "\n",
    "plt.show()\n",
    "\n",
    "plt.figure()\n",
    "plt.plot(xxx, phi.get()[mesh.ny//2,:], label='numerical')\n",
    "plt.show()\n",
    "\n",
    "plt.figure()\n",
    "plt.plot(pic_old.phi.T[mesh.ny//2,:], label='numerical')\n",
    "plt.show()"
   ]
  },
  {
   "cell_type": "code",
   "execution_count": null,
   "metadata": {
    "collapsed": false
   },
   "outputs": [],
   "source": [
    "mat = gpuarray.zeros((3,3), dtype=np.complex128)\n",
    "itemsize = np.dtype(np.complex128).itemsize\n",
    "target = gpuarray.zeros((5, 5), dtype=np.complex128) + 1\n",
    "print type(mat)\n",
    "print mat.shape\n",
    "print type(target)\n",
    "print target.shape\n",
    "copy = drv.Memcpy2D()\n",
    "copy.set_src_device(mat.gpudata)\n",
    "copy.set_dst_device(target.gpudata)\n",
    "copy.src_pitch = mat.shape[1] * itemsize\n",
    "copy.dst_pitch =  target.shape[1] * itemsize\n",
    "copy.width_in_bytes = 3*itemsize\n",
    "copy.height = 1\n",
    "print 'src pitch: ' + str(copy.src_pitch)\n",
    "print 'dst pitch: ' + str(copy.dst_pitch)\n",
    "print 'height: ' + str(copy.height)\n",
    "\n",
    "print mat\n",
    "print target\n",
    "copy(aligned=True)\n",
    "print target"
   ]
  },
  {
   "cell_type": "code",
   "execution_count": null,
   "metadata": {
    "collapsed": false
   },
   "outputs": [],
   "source": [
    "\n",
    "# rho\n",
    "plt.figure()\n",
    "plt.imshow(rho.get(), origin='lower', interpolation='none')\n",
    "plt.colorbar()\n",
    "plt.title('rho')\n",
    "plt.xlabel('x [cell]')\n",
    "plt.ylabel('y [cell]')\n",
    "plt.show()\n",
    "\n",
    "# Phi 2d\n",
    "f = plt.figure()\n",
    "f.set_figheight(8)\n",
    "f.set_figwidth(15)\n",
    "im =plt.imshow(phi.get(), origin='lower', interpolation='none')\n",
    "plt.title('Phi')\n",
    "plt.xlabel('x [cell]')\n",
    "plt.ylabel('y [cell]')\n",
    "f.subplots_adjust(right=0.8)\n",
    "cbar_ax = f.add_axes([0.85, 0.15, 0.05, 0.7])\n",
    "f.colorbar(im, cax=cbar_ax)\n",
    "plt.show()\n",
    "\n",
    "# Phi compare with analytical results and a 1/r fit\n",
    "def fn(r, a):\n",
    "    '''Analytical solution fit'''\n",
    "    return a*1./np.log(r)\n",
    "\n",
    "xxx = np.arange(mesh.x0, mesh.x0+mesh.nx*mesh.dx, dx)\n",
    "start_fit = mesh.nx/2 + 4\n",
    "fit_xxx = xxx[start_fit:]\n",
    "#popt_GPU, _ = curve_fit(fn, fit_xxx, phi.get()[mesh.ny//2, start_fit:])\n",
    "f, axarr = plt.subplots(2, sharex=True)\n",
    "f.set_figheight(10)\n",
    "f.set_figwidth(10)\n",
    "axarr[0].set_title('Phi along ny/2')\n",
    "axarr[0].plot(xxx,phi.get()[mesh.ny//2,:],label = 'numerical solution')\n",
    "axarr[0].plot(xxx, phi_analytic[mesh.ny//2, :], label= 'analytical solution')\n",
    "#axarr[0].plot(fit_xxx, fn(fit_xxx, *popt_GPU), label='log fit')\n",
    "axarr[0].set_ylabel('Phi')\n",
    "axarr[0].set_xlabel('x')\n",
    "\n",
    "axarr[0].legend()\n",
    "axarr[1].set_title('Particle distribution')\n",
    "axarr[1].hist(xx.get())\n",
    "axarr[1].set_xlabel('x')\n",
    "axarr[1].set_ylabel('# particles')\n",
    "\n",
    "plt.show()\n",
    "\n",
    "plt.figure()\n",
    "plt.plot(xxx, phi.get()[mesh.ny//2,:], label='numerical')\n",
    "plt.show()\n",
    "\n",
    "plt.figure()\n",
    "plt.plot(pic_old.phi.T[mesh.ny//2,:], label='numerical')\n",
    "plt.show()"
   ]
  },
  {
   "cell_type": "code",
   "execution_count": null,
   "metadata": {
    "collapsed": false
   },
   "outputs": [],
   "source": []
  },
  {
   "cell_type": "code",
   "execution_count": null,
   "metadata": {
    "collapsed": true
   },
   "outputs": [],
   "source": []
  }
 ],
 "metadata": {
  "kernelspec": {
   "display_name": "Python 2",
   "language": "python",
   "name": "python2"
  },
  "language_info": {
   "codemirror_mode": {
    "name": "ipython",
    "version": 2
   },
   "file_extension": ".py",
   "mimetype": "text/x-python",
   "name": "python",
   "nbconvert_exporter": "python",
   "pygments_lexer": "ipython2",
   "version": "2.7.10"
  }
 },
 "nbformat": 4,
 "nbformat_minor": 0
}
