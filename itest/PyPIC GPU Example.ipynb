{
 "cells": [
  {
   "cell_type": "markdown",
   "metadata": {},
   "source": [
    "# Setup"
   ]
  },
  {
   "cell_type": "code",
   "execution_count": 1,
   "metadata": {
    "collapsed": true
   },
   "outputs": [],
   "source": [
    "from __future__ import division, print_function\n",
    "\n",
    "import numpy as np\n",
    "from scipy.constants import c, e\n",
    "import matplotlib.pyplot as plt\n",
    "%matplotlib inline\n",
    "\n",
    "np.random.seed(0)"
   ]
  },
  {
   "cell_type": "markdown",
   "metadata": {},
   "source": [
    "### Beam"
   ]
  },
  {
   "cell_type": "code",
   "execution_count": 2,
   "metadata": {
    "collapsed": true
   },
   "outputs": [],
   "source": [
    "# INPUTS\n",
    "n_mp = int(1e6)\n",
    "\n",
    "dE = np.random.randn(n_mp) * 1e6 # [eV]\n",
    "dt = np.random.randn(n_mp) * 1e-7 # [s]\n",
    "\n",
    "gamma = 1.5\n",
    "\n",
    "beta_x = 15\n",
    "beta_y = 20\n",
    "D_x = 2\n",
    "epsn_x = 2e-6\n",
    "epsn_y = 2e-6"
   ]
  },
  {
   "cell_type": "code",
   "execution_count": 3,
   "metadata": {
    "collapsed": true
   },
   "outputs": [],
   "source": [
    "# COMPUTED QUANTITIES\n",
    "beta = np.sqrt(1 - gamma**-2)\n",
    "dp = dE / (beta * c)\n",
    "mu_x = np.random.randn(n_mp) * np.sqrt(epsn_x)\n",
    "mu_y = np.random.randn(n_mp) * np.sqrt(epsn_y)\n",
    "\n",
    "x = np.sqrt(beta_x) * mu_x + D_x * dp\n",
    "y = np.sqrt(beta_y) * mu_y\n",
    "z_beamframe = (-dt * beta * c) * gamma # Lorentz transformed"
   ]
  },
  {
   "cell_type": "code",
   "execution_count": 4,
   "metadata": {
    "collapsed": false
   },
   "outputs": [
    {
     "data": {
      "image/png": "[encoded data removed]",
      "text/plain": [
       "<matplotlib.figure.Figure at 0x7fdfb309c210>"
      ]
     },
     "metadata": {},
     "output_type": "display_data"
    }
   ],
   "source": [
    "plt.hist2d(x, y, bins=40);"
   ]
  },
  {
   "cell_type": "code",
   "execution_count": 5,
   "metadata": {
    "collapsed": false
   },
   "outputs": [
    {
     "data": {
      "image/png": "[encoded data removed]",
      "text/plain": [
       "<matplotlib.figure.Figure at 0x7fdfb82e4f10>"
      ]
     },
     "metadata": {},
     "output_type": "display_data"
    }
   ],
   "source": [
    "plt.hist2d(z_beamframe, x, bins=40);"
   ]
  },
  {
   "cell_type": "markdown",
   "metadata": {},
   "source": [
    "### PyPIC Imports"
   ]
  },
  {
   "cell_type": "code",
   "execution_count": 6,
   "metadata": {
    "collapsed": false
   },
   "outputs": [
    {
     "name": "stdout",
     "output_type": "stream",
     "text": [
      "PyKLU not found\n"
     ]
    }
   ],
   "source": [
    "# Import PyPIC, the particle-in-cell solver\n",
    "# (to be found on github.com/PyCOMPLETE/PyPIC\n",
    "# on the release/integrate-GPU branch as of 2.2.2017, \n",
    "# to be released to master branch at the end of February)\n",
    "# don't forget to `make` before running here\n",
    "import sys\n",
    "\n",
    "sys.path.append('/home/oeftiger/cern/git/PyPIC') # path to the PyPIC directory\n",
    "\n",
    "# modules inside the PyPIC/GPU directory:\n",
    "from GPU.pypic import PyPIC_GPU\n",
    "from GPU.poisson_solver.FFT_solver import GPUFFTPoissonSolver, GPUFFTPoissonSolver_2_5D\n",
    "from GPU import meshing"
   ]
  },
  {
   "cell_type": "markdown",
   "metadata": {},
   "source": [
    "### GPU Setup"
   ]
  },
  {
   "cell_type": "code",
   "execution_count": 7,
   "metadata": {
    "collapsed": true
   },
   "outputs": [],
   "source": [
    "# GPU set-up, requires pycuda package\n",
    "\n",
    "arraylib = np\n",
    "mathlib = np\n",
    "from pycuda.autoinit import context\n",
    "from pycuda import cumath\n",
    "from pycuda import gpuarray as gp\n",
    "arraylib = gp\n",
    "mathlib = cumath\n",
    "\n",
    "try:\n",
    "    # ensure everything is on CPU host RAM\n",
    "    x, y, z = x.get(), y.get(), z.get()\n",
    "except AttributeError:\n",
    "    pass"
   ]
  },
  {
   "cell_type": "markdown",
   "metadata": {},
   "source": [
    "### Mesh"
   ]
  },
  {
   "cell_type": "code",
   "execution_count": 8,
   "metadata": {
    "collapsed": false
   },
   "outputs": [],
   "source": [
    "# nodes for the 3D mesh\n",
    "n_x, n_y, n_z = 64, 64, 64\n",
    "d_x, d_y, d_z = map(lambda ary, n: (np.max(ary) - np.min(ary)) / n, \n",
    "                    [x, y, z_beamframe], [n_x, n_y, n_z])\n",
    "\n",
    "mesh = meshing.RectMesh3D(\n",
    "    origin=map(np.min, [x, y, z_beamframe]),\n",
    "    distances=[d_x, d_y, d_z],\n",
    "    n_cells_per_direction=[n_x, n_y, n_z],\n",
    "    mathlib=cumath\n",
    ")"
   ]
  },
  {
   "cell_type": "markdown",
   "metadata": {},
   "source": [
    "# Everything ready"
   ]
  },
  {
   "cell_type": "markdown",
   "metadata": {},
   "source": [
    "### 3D field solving"
   ]
  },
  {
   "cell_type": "code",
   "execution_count": 9,
   "metadata": {
    "collapsed": false
   },
   "outputs": [],
   "source": [
    "solver = GPUFFTPoissonSolver(mesh, context=context)\n",
    "# takes a mesh due to preallocation of memory (even though it's not soooo beautiful :D)"
   ]
  },
  {
   "cell_type": "code",
   "execution_count": 10,
   "metadata": {
    "collapsed": true
   },
   "outputs": [],
   "source": [
    "algorithm = PyPIC_GPU(mesh, solver, context)"
   ]
  },
  {
   "cell_type": "code",
   "execution_count": 11,
   "metadata": {
    "collapsed": true
   },
   "outputs": [],
   "source": [
    "# send arrays to GPU device RAM:\n",
    "x, y, z_beamframe = map(gp.to_gpu, [x, y, z_beamframe])"
   ]
  },
  {
   "cell_type": "code",
   "execution_count": 12,
   "metadata": {
    "collapsed": false
   },
   "outputs": [
    {
     "name": "stdout",
     "output_type": "stream",
     "text": [
      "The slowest run took 20.19 times longer than the fastest. This could mean that an intermediate result is being cached.\n",
      "1 loop, best of 3: 118 ms per loop\n"
     ]
    }
   ],
   "source": [
    "%%timeit\n",
    "# electric fields in the beam frame\n",
    "global E_x, E_y, E_z\n",
    "E_x, E_y, E_z = algorithm.pic_solve(x, y, z_beamframe, charge=e)"
   ]
  },
  {
   "cell_type": "code",
   "execution_count": 13,
   "metadata": {
    "collapsed": false
   },
   "outputs": [],
   "source": [
    "# get arrays back to CPU host RAM:\n",
    "x, y, z_beamframe = x.get(), y.get(), z_beamframe.get()\n",
    "E_x, E_y, E_z = E_x.get(), E_y.get(), E_z.get()"
   ]
  },
  {
   "cell_type": "code",
   "execution_count": 14,
   "metadata": {
    "collapsed": false
   },
   "outputs": [
    {
     "data": {
      "image/png": "[encoded data removed]",
      "text/plain": [
       "<matplotlib.figure.Figure at 0x7fdf98f18b90>"
      ]
     },
     "metadata": {},
     "output_type": "display_data"
    }
   ],
   "source": [
    "plt.hist2d(x, E_x, bins=100);"
   ]
  },
  {
   "cell_type": "code",
   "execution_count": 15,
   "metadata": {
    "collapsed": false
   },
   "outputs": [
    {
     "data": {
      "image/png": "[encoded data removed]",
      "text/plain": [
       "<matplotlib.figure.Figure at 0x7fdf94affc90>"
      ]
     },
     "metadata": {},
     "output_type": "display_data"
    }
   ],
   "source": [
    "plt.hist2d(y, E_y, bins=100);"
   ]
  },
  {
   "cell_type": "code",
   "execution_count": 16,
   "metadata": {
    "collapsed": false,
    "scrolled": true
   },
   "outputs": [
    {
     "data": {
      "image/png": "[encoded data removed]",
      "text/plain": [
       "<matplotlib.figure.Figure at 0x7fdfb2fa8f50>"
      ]
     },
     "metadata": {},
     "output_type": "display_data"
    }
   ],
   "source": [
    "plt.hist2d(z_beamframe, E_z, bins=100);"
   ]
  },
  {
   "cell_type": "markdown",
   "metadata": {},
   "source": [
    "### 2.5D field solving\n",
    "\n",
    "Transverse solving along all slices defined by z direction of mesh:"
   ]
  },
  {
   "cell_type": "code",
   "execution_count": 17,
   "metadata": {
    "collapsed": false
   },
   "outputs": [],
   "source": [
    "solver25d = GPUFFTPoissonSolver_2_5D(mesh, context=context, save_memory=False)"
   ]
  },
  {
   "cell_type": "code",
   "execution_count": 18,
   "metadata": {
    "collapsed": true
   },
   "outputs": [],
   "source": [
    "algorithm25d = PyPIC_GPU(mesh, solver25d, context)"
   ]
  },
  {
   "cell_type": "code",
   "execution_count": 19,
   "metadata": {
    "collapsed": true
   },
   "outputs": [],
   "source": [
    "# send arrays to GPU device RAM:\n",
    "x, y, z_beamframe = map(gp.to_gpu, [x, y, z_beamframe])"
   ]
  },
  {
   "cell_type": "code",
   "execution_count": 20,
   "metadata": {
    "collapsed": false
   },
   "outputs": [
    {
     "name": "stdout",
     "output_type": "stream",
     "text": [
      "10 loops, best of 3: 115 ms per loop\n"
     ]
    }
   ],
   "source": [
    "%%timeit\n",
    "# electric fields in the beam frame\n",
    "global E_x, E_y\n",
    "E_x, E_y, _ = algorithm25d.pic_solve(x, y, z_beamframe, charge=e)"
   ]
  },
  {
   "cell_type": "code",
   "execution_count": 21,
   "metadata": {
    "collapsed": false
   },
   "outputs": [],
   "source": [
    "# get arrays back to CPU host RAM:\n",
    "x, y, z_beamframe = x.get(), y.get(), z_beamframe.get()\n",
    "E_x, E_y = E_x.get(), E_y.get()"
   ]
  },
  {
   "cell_type": "code",
   "execution_count": 22,
   "metadata": {
    "collapsed": false
   },
   "outputs": [
    {
     "data": {
      "image/png": "[encoded data removed]",
      "text/plain": [
       "<matplotlib.figure.Figure at 0x7fdfb2f13450>"
      ]
     },
     "metadata": {},
     "output_type": "display_data"
    }
   ],
   "source": [
    "plt.hist2d(x, E_x, bins=100);"
   ]
  },
  {
   "cell_type": "code",
   "execution_count": 23,
   "metadata": {
    "collapsed": false
   },
   "outputs": [
    {
     "data": {
      "image/png": "[encoded data removed]",
      "text/plain": [
       "<matplotlib.figure.Figure at 0x7fdf940a1850>"
      ]
     },
     "metadata": {},
     "output_type": "display_data"
    }
   ],
   "source": [
    "plt.hist2d(y, E_y, bins=100);"
   ]
  },
  {
   "cell_type": "markdown",
   "metadata": {},
   "source": [
    "### Inspection"
   ]
  },
  {
   "cell_type": "code",
   "execution_count": 24,
   "metadata": {
    "collapsed": true
   },
   "outputs": [],
   "source": [
    "# send arrays to GPU device RAM:\n",
    "x, y, z_beamframe = map(gp.to_gpu, [x, y, z_beamframe])"
   ]
  },
  {
   "cell_type": "markdown",
   "metadata": {},
   "source": [
    "#### 3D case"
   ]
  },
  {
   "cell_type": "code",
   "execution_count": 25,
   "metadata": {
    "collapsed": false
   },
   "outputs": [
    {
     "name": "stdout",
     "output_type": "stream",
     "text": [
      "10 loops, best of 3: 58.1 ms per loop\n"
     ]
    }
   ],
   "source": [
    "%%timeit\n",
    "global mesh_charges\n",
    "mesh_charges = algorithm.particles_to_mesh(x, y, z_beamframe)"
   ]
  },
  {
   "cell_type": "code",
   "execution_count": 26,
   "metadata": {
    "collapsed": false
   },
   "outputs": [
    {
     "name": "stdout",
     "output_type": "stream",
     "text": [
      "100 loops, best of 3: 9.1 ms per loop\n"
     ]
    }
   ],
   "source": [
    "%%timeit\n",
    "global phi\n",
    "phi = algorithm.poisson_solve(mesh_charges / mesh.volume_elem)"
   ]
  },
  {
   "cell_type": "code",
   "execution_count": 27,
   "metadata": {
    "collapsed": false
   },
   "outputs": [
    {
     "name": "stdout",
     "output_type": "stream",
     "text": [
      "1000 loops, best of 3: 779 µs per loop\n"
     ]
    }
   ],
   "source": [
    "%%timeit\n",
    "global E_x_mesh, E_y_mesh, E_z_mesh\n",
    "E_x_mesh, E_y_mesh, E_z_mesh = algorithm.get_electric_fields(phi)\n",
    "context.synchronize()"
   ]
  },
  {
   "cell_type": "code",
   "execution_count": 28,
   "metadata": {
    "collapsed": false
   },
   "outputs": [
    {
     "name": "stdout",
     "output_type": "stream",
     "text": [
      "10 loops, best of 3: 50.4 ms per loop\n"
     ]
    }
   ],
   "source": [
    "%%timeit\n",
    "global fields\n",
    "fields = algorithm25d.field_to_particles(\n",
    "    (E_x_mesh, x), (E_y_mesh, y), (E_z_mesh, z_beamframe)\n",
    ")"
   ]
  },
  {
   "cell_type": "markdown",
   "metadata": {},
   "source": [
    "#### 2.5D case"
   ]
  },
  {
   "cell_type": "code",
   "execution_count": 29,
   "metadata": {
    "collapsed": false
   },
   "outputs": [
    {
     "name": "stdout",
     "output_type": "stream",
     "text": [
      "10 loops, best of 3: 58.8 ms per loop\n"
     ]
    }
   ],
   "source": [
    "%%timeit\n",
    "global mesh_charges\n",
    "mesh_charges = algorithm25d.particles_to_mesh(x, y, z_beamframe)"
   ]
  },
  {
   "cell_type": "code",
   "execution_count": 30,
   "metadata": {
    "collapsed": false
   },
   "outputs": [
    {
     "name": "stdout",
     "output_type": "stream",
     "text": [
      "100 loops, best of 3: 4.86 ms per loop\n"
     ]
    }
   ],
   "source": [
    "%%timeit\n",
    "global phi\n",
    "phi = algorithm25d.poisson_solve(mesh_charges / (mesh.dx * mesh.dy))"
   ]
  },
  {
   "cell_type": "code",
   "execution_count": 31,
   "metadata": {
    "collapsed": false
   },
   "outputs": [
    {
     "name": "stdout",
     "output_type": "stream",
     "text": [
      "1000 loops, best of 3: 762 µs per loop\n"
     ]
    }
   ],
   "source": [
    "%%timeit\n",
    "global E_x_mesh, E_y_mesh, dummy\n",
    "E_x_mesh, E_y_mesh, dummy = algorithm25d.get_electric_fields(phi)\n",
    "context.synchronize()"
   ]
  },
  {
   "cell_type": "code",
   "execution_count": 32,
   "metadata": {
    "collapsed": false
   },
   "outputs": [
    {
     "name": "stdout",
     "output_type": "stream",
     "text": [
      "10 loops, best of 3: 51.8 ms per loop\n"
     ]
    }
   ],
   "source": [
    "%%timeit\n",
    "global fields\n",
    "fields = algorithm25d.field_to_particles(\n",
    "    (E_x_mesh, x), (E_y_mesh, y), (dummy, z_beamframe)\n",
    ")"
   ]
  },
  {
   "cell_type": "markdown",
   "metadata": {},
   "source": [
    "#### done:"
   ]
  },
  {
   "cell_type": "code",
   "execution_count": 33,
   "metadata": {
    "collapsed": false
   },
   "outputs": [],
   "source": [
    "# get arrays back to CPU host RAM:\n",
    "x, y, z_beamframe = x.get(), y.get(), z_beamframe.get()"
   ]
  },
  {
   "cell_type": "markdown",
   "metadata": {},
   "source": [
    ".\n",
    "\n",
    ".\n",
    "\n",
    ".\n",
    "\n",
    ".\n",
    "\n",
    ".\n",
    "\n",
    ".\n",
    "\n",
    ".\n",
    "\n",
    ".\n",
    "\n",
    ".\n",
    "\n",
    ".\n",
    "\n",
    "# meshing"
   ]
  },
  {
   "cell_type": "code",
   "execution_count": 34,
   "metadata": {
    "collapsed": true
   },
   "outputs": [],
   "source": [
    "mesh.mathlib = np"
   ]
  },
  {
   "cell_type": "code",
   "execution_count": 35,
   "metadata": {
    "collapsed": false
   },
   "outputs": [
    {
     "name": "stdout",
     "output_type": "stream",
     "text": [
      "1 loop, best of 3: 214 ms per loop\n"
     ]
    }
   ],
   "source": [
    "%%timeit\n",
    "mesh.get_weights(x, y, z_beamframe)"
   ]
  },
  {
   "cell_type": "code",
   "execution_count": 36,
   "metadata": {
    "collapsed": true
   },
   "outputs": [],
   "source": [
    "mesh.mathlib = cumath"
   ]
  },
  {
   "cell_type": "code",
   "execution_count": 37,
   "metadata": {
    "collapsed": true
   },
   "outputs": [],
   "source": [
    "# send arrays to GPU device RAM:\n",
    "x, y, z_beamframe = map(gp.to_gpu, [x, y, z_beamframe])"
   ]
  },
  {
   "cell_type": "code",
   "execution_count": 38,
   "metadata": {
    "collapsed": false
   },
   "outputs": [
    {
     "name": "stdout",
     "output_type": "stream",
     "text": [
      "10 loops, best of 3: 37.5 ms per loop\n"
     ]
    }
   ],
   "source": [
    "%%timeit\n",
    "global weights\n",
    "weights = mesh.get_weights(x, y, z_beamframe)"
   ]
  },
  {
   "cell_type": "code",
   "execution_count": 39,
   "metadata": {
    "collapsed": true
   },
   "outputs": [],
   "source": [
    "from pycuda.elementwise import ElementwiseKernel"
   ]
  },
  {
   "cell_type": "code",
   "execution_count": 40,
   "metadata": {
    "collapsed": true
   },
   "outputs": [],
   "source": [
    "get_weights_new = ElementwiseKernel(\n",
    "    # inputs:\n",
    "    'double* x, double* y, double* z, '\n",
    "    # outputs:\n",
    "    'double* weight_ijk, double* weight_i1jk, '\n",
    "    'double* weight_ij1k, double* weight_i1j1k, '\n",
    "    'double* weight_ijk1, double* weight_i1jk1, '\n",
    "    'double* weight_ij1k1, double* weight_i1j1k1',\n",
    "    '''\n",
    "    // indices\n",
    "    double jj = floor((x[i] - {x0}) / {dx});\n",
    "    double ii = floor((y[i] - {y0}) / {dy});\n",
    "    double kk = floor((z[i] - {z0}) / {dz});\n",
    "    \n",
    "    // distances\n",
    "    double dxi = x[i] - ({x0} + jj * {dx});\n",
    "    double dyi = y[i] - ({y0} + ii * {dy});\n",
    "    double dzi = z[i] - ({z0} + kk * {dz});\n",
    "    \n",
    "    // weights\n",
    "    weight_ijk[i] =    (1.-dxi/{dx})*(1.-dyi/{dy})*(1.-dzi/{dz});\n",
    "    weight_i1jk[i] =   (1.-dxi/{dx})*(dyi/{dy})   *(1.-dzi/{dz});\n",
    "    weight_ij1k[i] =   (dxi/{dx})   *(1.-dyi/{dy})*(1.-dzi/{dz});\n",
    "    weight_i1j1k[i] =  (dxi/{dx})   *(dyi/{dy})   *(1.-dzi/{dz});\n",
    "    weight_ijk1[i] =   (1.-dxi/{dx})*(1.-dyi/{dy})*(dzi/{dz});\n",
    "    weight_i1jk1[i] =  (1.-dxi/{dx})*(dyi/{dy})   *(dzi/{dz});\n",
    "    weight_ij1k1[i] =  (dxi/{dx})   *(1.-dyi/{dy})*(dzi/{dz});\n",
    "    weight_i1j1k1[i] = (dxi/{dx})   *(dyi/{dy})   *(dzi/{dz});\n",
    "    '''.format(\n",
    "        x0=mesh.x0, y0=mesh.y0, z0=mesh.z0, \n",
    "        dx=mesh.dx, dy=mesh.dy, dz=mesh.dz), \n",
    "    'get_weights'\n",
    ")"
   ]
  },
  {
   "cell_type": "code",
   "execution_count": 41,
   "metadata": {
    "collapsed": true
   },
   "outputs": [],
   "source": [
    "(weight_ijk, weight_i1jk, weight_ij1k, weight_i1j1k,\n",
    "weight_ijk1, weight_i1jk1, weight_ij1k1, weight_i1j1k1) = (\n",
    "    gp.empty_like(x) for _ in range(8)\n",
    ")"
   ]
  },
  {
   "cell_type": "code",
   "execution_count": 42,
   "metadata": {
    "collapsed": false
   },
   "outputs": [
    {
     "name": "stdout",
     "output_type": "stream",
     "text": [
      "100 loops, best of 3: 1.12 ms per loop\n"
     ]
    }
   ],
   "source": [
    "%%timeit -n 100\n",
    "get_weights_new(\n",
    "    # inputs:\n",
    "    x, y, z_beamframe,\n",
    "    # outputs:\n",
    "    weight_ijk, weight_i1jk, weight_ij1k, weight_i1j1k,\n",
    "    weight_ijk1, weight_i1jk1, weight_ij1k1, weight_i1j1k1\n",
    ")\n",
    "context.synchronize()"
   ]
  },
  {
   "cell_type": "code",
   "execution_count": 43,
   "metadata": {
    "collapsed": false
   },
   "outputs": [
    {
     "data": {
      "text/plain": [
       "False"
      ]
     },
     "execution_count": 43,
     "metadata": {},
     "output_type": "execute_result"
    }
   ],
   "source": [
    "np.allclose(weights[0].get(), weight_ijk.get(), atol=1e-4)"
   ]
  },
  {
   "cell_type": "code",
   "execution_count": 44,
   "metadata": {
    "collapsed": false
   },
   "outputs": [
    {
     "name": "stdout",
     "output_type": "stream",
     "text": [
      "(array([  3698, 238281, 567910]),) [ 0.23006966  0.22079784  0.00201855]\n"
     ]
    }
   ],
   "source": [
    "error = np.abs(weights[0].get() - weight_ijk.get())\n",
    "error_ids = np.where(error > 1e-5)\n",
    "print (error_ids, error[error_ids])"
   ]
  },
  {
   "cell_type": "code",
   "execution_count": 45,
   "metadata": {
    "collapsed": false
   },
   "outputs": [],
   "source": [
    "# get arrays back to CPU host RAM:\n",
    "x, y, z_beamframe = x.get(), y.get(), z_beamframe.get()"
   ]
  }
 ],
 "metadata": {
  "kernelspec": {
   "display_name": "Python 2",
   "language": "python",
   "name": "python2"
  },
  "language_info": {
   "codemirror_mode": {
    "name": "ipython",
    "version": 2
   },
   "file_extension": ".py",
   "mimetype": "text/x-python",
   "name": "python",
   "nbconvert_exporter": "python",
   "pygments_lexer": "ipython2",
   "version": "2.7.11"
  }
 },
 "nbformat": 4,
 "nbformat_minor": 0
}
