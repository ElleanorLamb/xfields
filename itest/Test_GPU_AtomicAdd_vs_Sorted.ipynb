{
 "cells": [
  {
   "cell_type": "code",
   "execution_count": 1,
   "metadata": {
    "collapsed": true
   },
   "outputs": [],
   "source": [
    "from __future__ import division\n",
    "import os, sys\n",
    "\n",
    "where = \"/afs/cern.ch/user/o/oeftiger/w/private/\"\n",
    "BIN = where + \"git/PyHEADTAIL/\"\n",
    "sys.path.append(BIN)\n",
    "BIN = where + \"git/PyPIC-experimental/\"\n",
    "sys.path.append(BIN)\n",
    "BIN = where + \"git\"\n",
    "sys.path.append(BIN)"
   ]
  },
  {
   "cell_type": "code",
   "execution_count": 2,
   "metadata": {
    "collapsed": false,
    "scrolled": true
   },
   "outputs": [
    {
     "name": "stdout",
     "output_type": "stream",
     "text": [
      "PyHEADTAIL v1.4.1-15-ga0ef233505-dirty\n",
      "\n",
      "\n"
     ]
    }
   ],
   "source": [
    "import matplotlib.pyplot as plt\n",
    "%matplotlib inline\n",
    "import numpy as np\n",
    "from scipy.constants import e\n",
    "\n",
    "np.random.seed(0)\n",
    "\n",
    "os.environ[\"CUDA_DEVICE\"] = \"3\"\n",
    "\n",
    "from pycuda.autoinit import context\n",
    "from pycuda import gpuarray\n",
    "from pycuda import cumath\n",
    "from pycuda import driver\n",
    "from pycuda.compiler import SourceModule\n",
    "\n",
    "import PyHEADTAIL\n",
    "from PyHEADTAIL import gpu\n",
    "\n",
    "from PyCERNmachines.CERNmachines import SPS\n",
    "\n",
    "from PyPIC import pypic, meshing\n",
    "from PyPIC.poisson_solver import FD_solver, FFT_solver"
   ]
  },
  {
   "cell_type": "code",
   "execution_count": 3,
   "metadata": {
    "collapsed": true
   },
   "outputs": [],
   "source": [
    "# general simulation parameters\n",
    "n_particles = 1024*1024\n",
    "nx = ny = 64\n",
    "nz = 32\n",
    "\n",
    "# beam parameters\n",
    "intensity = 0.5 * 2.5e11\n",
    "epsn_x = 2.5e-6\n",
    "epsn_y = 2.5e-6\n",
    "sigma_z = 0.23"
   ]
  },
  {
   "cell_type": "code",
   "execution_count": 4,
   "metadata": {
    "collapsed": false
   },
   "outputs": [
    {
     "name": "stdout",
     "output_type": "stream",
     "text": [
      "Synchrotron init. From kwargs: machine_configuration = 'Q20-injection'\n",
      "Synchrotron init. From kwargs: n_segments = 1\n"
     ]
    }
   ],
   "source": [
    "machine = SPS(n_segments=1, machine_configuration='Q20-injection')"
   ]
  },
  {
   "cell_type": "code",
   "execution_count": 5,
   "metadata": {
    "collapsed": false
   },
   "outputs": [
    {
     "name": "stdout",
     "output_type": "stream",
     "text": [
      "*** Maximum RMS bunch length 0.235788291837m.\n",
      "... distance to target bunch length: -2.4290e-02\n",
      "... distance to target bunch length: -2.4255e-02\n",
      "... distance to target bunch length: -9.4232e-03\n",
      "... distance to target bunch length: -5.0846e-03\n",
      "... distance to target bunch length: -2.0166e-03\n",
      "... distance to target bunch length: -6.6153e-04\n",
      "... distance to target bunch length: -1.2571e-04\n",
      "... distance to target bunch length: -9.7555e-06\n",
      "... distance to target bunch length: -1.5712e-07\n",
      "... distance to target bunch length: -1.9993e-10\n",
      "--> Bunch length: 0.23\n",
      "--> Emittance: 0.407764779947\n"
     ]
    }
   ],
   "source": [
    "beam = machine.generate_6D_Gaussian_bunch_matched(\n",
    "    n_macroparticles=n_particles, intensity=intensity, \n",
    "    epsn_x=epsn_x, epsn_y=epsn_y, sigma_z=sigma_z\n",
    ")"
   ]
  },
  {
   "cell_type": "code",
   "execution_count": 6,
   "metadata": {
    "collapsed": false
   },
   "outputs": [],
   "source": [
    "offset_part = 0.01\n",
    "x0 = gpuarray.min(beam.x).get()\n",
    "y0 = gpuarray.min(beam.y).get()\n",
    "z0 = gpuarray.min(beam.z).get()\n",
    "offset_x = offset_part * np.abs(x0)\n",
    "offset_y = offset_part * np.abs(y0)\n",
    "offset_z = offset_part * np.abs(z0)\n",
    "x0 -= offset_x\n",
    "y0 -= offset_y\n",
    "z0 -= offset_z\n",
    "dx = (gpuarray.max(beam.x).get() - x0 + 2*offset_x) / (nx - 3)\n",
    "dy = (gpuarray.max(beam.y).get() - y0 + 2*offset_y) / (ny - 3)\n",
    "dz = (gpuarray.max(beam.z).get() - z0 + 2*offset_z) / (nz - 3)\n",
    "\n",
    "# 1 node empty around the mesh for boundary conditions\n",
    "x0 -= dx\n",
    "y0 -= dy\n",
    "z0 -= dz\n",
    "\n",
    "mesh = meshing.RectMesh3D(x0, y0, z0, dx, dy, dz, nx, ny, nz, mathlib=cumath)"
   ]
  },
  {
   "cell_type": "code",
   "execution_count": 7,
   "metadata": {
    "collapsed": false
   },
   "outputs": [],
   "source": [
    "# solver = FD_solver.GPUFiniteDifferencePoissonSolver(mesh, context, FD_solver.laplacian_3D_7stencil)\n",
    "solver = FFT_solver.GPUFFTPoissonSolver(mesh)"
   ]
  },
  {
   "cell_type": "code",
   "execution_count": 8,
   "metadata": {
    "collapsed": false
   },
   "outputs": [],
   "source": [
    "pypicalg = pypic.PyPIC_GPU(mesh, solver, context)"
   ]
  },
  {
   "cell_type": "code",
   "execution_count": 9,
   "metadata": {
    "collapsed": false
   },
   "outputs": [
    {
     "name": "stdout",
     "output_type": "stream",
     "text": [
      "The slowest run took 9.56 times longer than the fastest. This could mean that an intermediate result is being cached \n",
      "1 loops, best of 3: 180 ms per loop\n"
     ]
    }
   ],
   "source": [
    "%%timeit\n",
    "e_x, e_y, e_z = pypicalg.pic_solve(beam.x, beam.y, beam.z)"
   ]
  },
  {
   "cell_type": "code",
   "execution_count": 10,
   "metadata": {
    "collapsed": true
   },
   "outputs": [],
   "source": [
    "mod = gpu.thrust_interface.compiled_module"
   ]
  },
  {
   "cell_type": "code",
   "execution_count": 11,
   "metadata": {
    "collapsed": false
   },
   "outputs": [],
   "source": [
    "# %%timeit -n 1\n",
    "# idx = gpuarray.zeros(n_particles, dtype=np.int32)\n",
    "# mod.get_sort_perm_int(mesh.get_node_ids(beam.x, beam.y, beam.z), idx)\n",
    "# beam.reorder(idx)"
   ]
  },
  {
   "cell_type": "code",
   "execution_count": 12,
   "metadata": {
    "collapsed": false
   },
   "outputs": [],
   "source": [
    "# %%timeit\n",
    "# e_x, e_y, e_z = pypicalg.pic_solve(beam.x, beam.y, beam.z)"
   ]
  },
  {
   "cell_type": "markdown",
   "metadata": {},
   "source": [
    "# Timing sorting solution"
   ]
  },
  {
   "cell_type": "code",
   "execution_count": 13,
   "metadata": {
    "collapsed": false
   },
   "outputs": [
    {
     "name": "stdout",
     "output_type": "stream",
     "text": [
      "10 loops, best of 3: 91.7 ms per loop\n"
     ]
    }
   ],
   "source": [
    "%%timeit\n",
    "rho = pypicalg.particles_to_mesh(beam.x, beam.y, beam.z, charge=1)\n",
    "context.synchronize()"
   ]
  },
  {
   "cell_type": "code",
   "execution_count": 14,
   "metadata": {
    "collapsed": true
   },
   "outputs": [],
   "source": [
    "mesh_charges_atomicadd = pypicalg.particles_to_mesh(beam.x, beam.y, beam.z)\n",
    "phi = pypicalg.poisson_solve(mesh_charges_atomicadd)\n",
    "mesh_e_fields = pypicalg.get_electric_fields(phi)\n",
    "context.synchronize()"
   ]
  },
  {
   "cell_type": "code",
   "execution_count": 15,
   "metadata": {
    "collapsed": false
   },
   "outputs": [
    {
     "name": "stdout",
     "output_type": "stream",
     "text": [
      "10 loops, best of 3: 49.6 ms per loop\n"
     ]
    }
   ],
   "source": [
    "%%timeit\n",
    "pypicalg.field_to_particles(*zip(list(mesh_e_fields), [beam.x, beam.y, beam.z]))"
   ]
  },
  {
   "cell_type": "code",
   "execution_count": 16,
   "metadata": {
    "collapsed": true
   },
   "outputs": [],
   "source": [
    "mesh_charges_atomicadd = pypicalg.particles_to_mesh(beam.x, beam.y, beam.z)\n",
    "# mesh_charges_atomicadd = mesh_charges_atomicadd.reshape((1, 1, mesh.n_nodes))[0,0]"
   ]
  },
  {
   "cell_type": "code",
   "execution_count": 17,
   "metadata": {
    "collapsed": true
   },
   "outputs": [],
   "source": [
    "get_sort_perm_int = mod.get_sort_perm_int\n",
    "lower_bound_int = mod.lower_bound_int\n",
    "upper_bound_int = mod.upper_bound_int"
   ]
  },
  {
   "cell_type": "code",
   "execution_count": 24,
   "metadata": {
    "collapsed": false
   },
   "outputs": [
    {
     "name": "stdout",
     "output_type": "stream",
     "text": [
      "10 loops, best of 3: 26.8 ms per loop\n"
     ]
    }
   ],
   "source": [
    "%%timeit\n",
    "global mesh_charges, lower_bounds, upper_bounds\n",
    "idx = gpuarray.zeros(n_particles, dtype=np.int32)\n",
    "get_sort_perm_int(mesh.get_node_ids(beam.x, beam.y, beam.z), idx)\n",
    "beam.reorder(idx)\n",
    "node_ids = mesh.get_node_ids(beam.x, beam.y, beam.z)\n",
    "lower_bounds = gpuarray.empty(mesh.n_nodes, dtype=np.int32)\n",
    "upper_bounds = gpuarray.empty(mesh.n_nodes, dtype=np.int32)\n",
    "seq = gpuarray.arange(mesh.n_nodes, dtype=np.int32)\n",
    "lower_bound_int(node_ids, seq, lower_bounds)\n",
    "upper_bound_int(node_ids, seq, upper_bounds)\n",
    "mesh_charges = pypicalg.sorted_particles_to_mesh(\n",
    "    beam.x, beam.y, beam.z, \n",
    "    lower_bounds=lower_bounds, upper_bounds=upper_bounds\n",
    ")\n",
    "context.synchronize()"
   ]
  },
  {
   "cell_type": "markdown",
   "metadata": {},
   "source": [
    "compare this to ~90.7 ms from atomicAdd version"
   ]
  },
  {
   "cell_type": "code",
   "execution_count": 19,
   "metadata": {
    "collapsed": false
   },
   "outputs": [
    {
     "data": {
      "text/plain": [
       "True"
      ]
     },
     "execution_count": 19,
     "metadata": {},
     "output_type": "execute_result"
    }
   ],
   "source": [
    "np.allclose(mesh_charges.get(), mesh_charges_atomicadd.get())"
   ]
  },
  {
   "cell_type": "code",
   "execution_count": 20,
   "metadata": {
    "collapsed": false,
    "scrolled": true
   },
   "outputs": [
    {
     "data": {
      "text/plain": [
       "3.5155038759689923"
      ]
     },
     "execution_count": 20,
     "metadata": {},
     "output_type": "execute_result"
    }
   ],
   "source": [
    "90.7/25.8"
   ]
  },
  {
   "cell_type": "code",
   "execution_count": 21,
   "metadata": {
    "collapsed": false
   },
   "outputs": [
    {
     "name": "stdout",
     "output_type": "stream",
     "text": [
      "10 loops, best of 3: 39 ms per loop\n"
     ]
    }
   ],
   "source": [
    "%%timeit\n",
    "pypicalg.field_to_particles(*zip(list(mesh_e_fields), [beam.x, beam.y, beam.z]))"
   ]
  },
  {
   "cell_type": "markdown",
   "metadata": {},
   "source": [
    "compare this to ~48.7 ms from atomicAdd version"
   ]
  },
  {
   "cell_type": "code",
   "execution_count": 22,
   "metadata": {
    "collapsed": false
   },
   "outputs": [
    {
     "data": {
      "text/plain": [
       "1.2519280205655527"
      ]
     },
     "execution_count": 22,
     "metadata": {},
     "output_type": "execute_result"
    }
   ],
   "source": [
    "48.7/38.9"
   ]
  },
  {
   "cell_type": "markdown",
   "metadata": {},
   "source": [
    "# Timing full pic_solve"
   ]
  },
  {
   "cell_type": "markdown",
   "metadata": {},
   "source": [
    "~180 ms for full pic_solve using FFT (see above)"
   ]
  },
  {
   "cell_type": "code",
   "execution_count": 25,
   "metadata": {
    "collapsed": false
   },
   "outputs": [
    {
     "name": "stdout",
     "output_type": "stream",
     "text": [
      "10 loops, best of 3: 87.1 ms per loop\n"
     ]
    }
   ],
   "source": [
    "%%timeit\n",
    "e_x, e_y, e_z = pypicalg.pic_solve(beam.x, beam.y, beam.z, lower_bounds=lower_bounds, upper_bounds=upper_bounds)"
   ]
  },
  {
   "cell_type": "code",
   "execution_count": null,
   "metadata": {
    "collapsed": true
   },
   "outputs": [],
   "source": []
  }
 ],
 "metadata": {
  "kernelspec": {
   "display_name": "Python 2",
   "language": "python",
   "name": "python2"
  },
  "language_info": {
   "codemirror_mode": {
    "name": "ipython",
    "version": 2
   },
   "file_extension": ".py",
   "mimetype": "text/x-python",
   "name": "python",
   "nbconvert_exporter": "python",
   "pygments_lexer": "ipython2",
   "version": "2.7.10"
  }
 },
 "nbformat": 4,
 "nbformat_minor": 0
}
