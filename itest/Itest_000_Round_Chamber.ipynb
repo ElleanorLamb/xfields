{
 "cells": [
  {
   "cell_type": "code",
   "execution_count": 1,
   "metadata": {
    "collapsed": false
   },
   "outputs": [
    {
     "ename": "ImportError",
     "evalue": "No module named int_field_for_border",
     "output_type": "error",
     "traceback": [
      "\u001b[1;31m---------------------------------------------------------------------------\u001b[0m",
      "\u001b[1;31mImportError\u001b[0m                               Traceback (most recent call last)",
      "\u001b[1;32m<ipython-input-1-e8caa0f1075b>\u001b[0m in \u001b[0;36m<module>\u001b[1;34m()\u001b[0m\n\u001b[0;32m      5\u001b[0m \u001b[1;32mimport\u001b[0m \u001b[0mmatplotlib\u001b[0m\u001b[1;33m.\u001b[0m\u001b[0mpyplot\u001b[0m \u001b[1;32mas\u001b[0m \u001b[0mplt\u001b[0m\u001b[1;33m\u001b[0m\u001b[0m\n\u001b[0;32m      6\u001b[0m \u001b[1;33m\u001b[0m\u001b[0m\n\u001b[1;32m----> 7\u001b[1;33m \u001b[1;32mimport\u001b[0m \u001b[0mFiniteDifferences_ShortleyWeller_SquareGrid\u001b[0m \u001b[1;32mas\u001b[0m \u001b[0mPIC_FDSW\u001b[0m\u001b[1;33m\u001b[0m\u001b[0m\n\u001b[0m\u001b[0;32m      8\u001b[0m \u001b[1;32mimport\u001b[0m \u001b[0mFiniteDifferences_Staircase_SquareGrid\u001b[0m \u001b[1;32mas\u001b[0m \u001b[0mPIC_FD\u001b[0m\u001b[1;33m\u001b[0m\u001b[0m\n\u001b[0;32m      9\u001b[0m \u001b[1;32mimport\u001b[0m \u001b[0mFFT_OpenBoundary_SquareGrid\u001b[0m \u001b[1;32mas\u001b[0m \u001b[0mPIC_FFT\u001b[0m\u001b[1;33m\u001b[0m\u001b[0m\n",
      "\u001b[1;32m/home/shegglin/PyPIC/old/FiniteDifferences_ShortleyWeller_SquareGrid.py\u001b[0m in \u001b[0;36m<module>\u001b[1;34m()\u001b[0m\n\u001b[0;32m     59\u001b[0m \u001b[1;32mfrom\u001b[0m \u001b[0mscipy\u001b[0m\u001b[1;33m.\u001b[0m\u001b[0mconstants\u001b[0m \u001b[1;32mimport\u001b[0m \u001b[0me\u001b[0m\u001b[1;33m,\u001b[0m \u001b[0mepsilon_0\u001b[0m\u001b[1;33m\u001b[0m\u001b[0m\n\u001b[0;32m     60\u001b[0m \u001b[1;33m\u001b[0m\u001b[0m\n\u001b[1;32m---> 61\u001b[1;33m \u001b[1;32mimport\u001b[0m \u001b[0mint_field_for_border\u001b[0m \u001b[1;32mas\u001b[0m \u001b[0miffb\u001b[0m\u001b[1;33m\u001b[0m\u001b[0m\n\u001b[0m\u001b[0;32m     62\u001b[0m \u001b[1;33m\u001b[0m\u001b[0m\n\u001b[0;32m     63\u001b[0m \u001b[1;33m\u001b[0m\u001b[0m\n",
      "\u001b[1;31mImportError\u001b[0m: No module named int_field_for_border"
     ]
    }
   ],
   "source": [
    "import sys\n",
    "sys.path.append('../')\n",
    "sys.path.append('../old/')\n",
    "\n",
    "import matplotlib.pyplot as plt\n",
    "\n",
    "import FiniteDifferences_ShortleyWeller_SquareGrid as PIC_FDSW\n",
    "import FiniteDifferences_Staircase_SquareGrid as PIC_FD\n",
    "import FFT_OpenBoundary_SquareGrid as PIC_FFT\n",
    "import FFT_PEC_Boundary_SquareGrid as PIC_FFTPEC\n",
    "\n",
    "import geom_impact_ellip as ell\n",
    "from scipy import rand\n",
    "import numpy as np"
   ]
  },
  {
   "cell_type": "code",
   "execution_count": null,
   "metadata": {
    "collapsed": false
   },
   "outputs": [],
   "source": [
    "from pypic import PyPIC_Fortran_M2P_P2M, PyPIC\n",
    "from meshing import RectMesh2D\n",
    "from poisson_solver import FD_solver as FD\n",
    "from poisson_solver import FFT_solver as FFT\n",
    "from poisson_solver.FD_solver import laplacian_2D_5stencil"
   ]
  },
  {
   "cell_type": "code",
   "execution_count": null,
   "metadata": {
    "collapsed": false
   },
   "outputs": [],
   "source": [
    "R_cham = 1e-1\n",
    "R_charge = 4e-2\n",
    "N_part_gen = 100000\n",
    "Dh = 1e-3\n",
    "\n",
    "from scipy.constants import e, epsilon_0\n",
    "\n",
    "qe = e\n",
    "eps0 = epsilon_0\n",
    "\n",
    "chamber = ell.ellip_cham_geom_object(x_aper = R_cham, y_aper = R_cham)\n",
    "\n",
    "\n",
    "poissonsolver = FD.FiniteDifferences_ShortleyWeller_SquareGrid_extrapolation(chamb=chamber, Dh=Dh)\n",
    "poissonsolver_FFT = FFT.FFT_OpenBoundary_SquareGrid(x_aper=chamber.x_aper, y_aper=chamber.y_aper, Dh=Dh)\n",
    "poissonsolver_FFT_PEC = FFT.FFT_PEC_Boundary_SquareGrid(x_aper=chamber.x_aper, y_aper=chamber.y_aper, Dh=Dh)\n",
    "\n",
    "mesh = RectMesh2D(poissonsolver.bias_x,\n",
    "                  poissonsolver.bias_y,\n",
    "                  Dh, Dh,\n",
    "                  poissonsolver.Nxg,\n",
    "                  poissonsolver.Nyg)\n",
    "\n",
    "print(mesh.nx, mesh.ny)\n",
    "\n",
    "\n",
    "\n",
    "new_pp = PyPIC_Fortran_M2P_P2M(mesh, poissonsolver, gradient=poissonsolver.gradient)\n",
    "new_pp_FFT = PyPIC_Fortran_M2P_P2M(mesh, poissonsolver_FFT)\n",
    "new_pp_FFT_PEC = PyPIC_Fortran_M2P_P2M(mesh, poissonsolver_FFT_PEC)\n",
    "\n",
    "picFFTPEC = PIC_FFTPEC.FFT_PEC_Boundary_SquareGrid(x_aper = chamber.x_aper, y_aper = chamber.y_aper, Dh = Dh, fftlib='pyfftw')\n",
    "picFD = PIC_FD.FiniteDifferences_Staircase_SquareGrid(chamb = chamber, Dh = Dh)\n",
    "picFDSW = PIC_FDSW.FiniteDifferences_ShortleyWeller_SquareGrid(chamb = chamber, Dh = Dh)\n",
    "picFFT = PIC_FFT.FFT_OpenBoundary_SquareGrid(x_aper = chamber.x_aper, y_aper = chamber.y_aper, Dh = Dh, fftlib='pyfftw')\n"
   ]
  },
  {
   "cell_type": "code",
   "execution_count": null,
   "metadata": {
    "collapsed": true
   },
   "outputs": [],
   "source": [
    "def test_new_solver(new_solver, xx, yy, charge=e, x_probe=None, y_probe=None):\n",
    "    '''\n",
    "    Return rho, Phi, efx, efy, Ex, Ey\n",
    "    '''\n",
    "    mesh_charges = new_solver.particles_to_mesh(xx, yy, charge=charge)\n",
    "    rho = mesh_charges/new_solver.mesh.volume_elem\n",
    "    phi = new_solver.poisson_solve(mesh_charges)\n",
    "    print phi.shape\n",
    "    mesh_e_fields = new_solver.get_electric_fields(phi)\n",
    "    efx = mesh_e_fields[0]\n",
    "    efy = mesh_e_fields[1]\n",
    "    print efx.shape\n",
    "    for i, field in enumerate(mesh_e_fields):\n",
    "        print(field.flags)\n",
    "        mesh_e_fields[i] = np.ascontiguousarray(field.flatten())\n",
    "    mesh_fields_and_mp_coords = zip(list(mesh_e_fields), [x_probe, y_probe])\n",
    "    fields = new_solver.field_to_particles(*mesh_fields_and_mp_coords)\n",
    "    Ex = fields[0]\n",
    "    Ey = fields[1]\n",
    "    return rho, phi, efx, efy, Ex, Ey\n"
   ]
  },
  {
   "cell_type": "code",
   "execution_count": null,
   "metadata": {
    "collapsed": false
   },
   "outputs": [],
   "source": [
    "# generate particles\n",
    "x_part = R_charge*(2.*rand(N_part_gen)-1.)\n",
    "y_part = R_charge*(2.*rand(N_part_gen)-1.)\n",
    "mask_keep  = x_part**2+y_part**2<R_charge**2\n",
    "x_part = x_part[mask_keep]\n",
    "y_part = y_part[mask_keep]\n",
    "\n",
    "nel_part = 0*x_part+1.\n",
    "\n",
    "#pic scatter\n",
    "picFD.scatter(x_part, y_part, nel_part, charge=e)\n",
    "picFDSW.scatter(x_part, y_part, nel_part, charge=e)\n",
    "picFFT.scatter(x_part, y_part, nel_part, charge=e)\n",
    "picFFTPEC.scatter(x_part, y_part, nel_part, charge=e)\n",
    "\n",
    "\n",
    "#pic scatter\n",
    "picFD.solve()\n",
    "picFDSW.solve()\n",
    "picFFT.solve()\n",
    "picFFTPEC.solve()\n",
    "\n",
    "    \n",
    "x_probes = np.linspace(0,R_cham,1000)\n",
    "y_probes = 0. * x_probes\n",
    "\n",
    "    \n",
    "\n",
    "rho_FFT, phi_FFT, efx_FFT, efy_FFT, Ex_FFT, Ey_FFT = test_new_solver(new_pp_FFT, xx=x_part, yy=y_part,\n",
    "                                                                     charge=e,\n",
    "                                                                     x_probe=x_probes, y_probe=y_probes)\n",
    "efx_FFT.reshape(efx_FFT.shape, order='F')\n",
    "\n",
    "rho, phi, efx, efy, Ex, Ey = test_new_solver(new_pp, xx=x_part, yy=y_part,\n",
    "                                             charge=e,\n",
    "                                             x_probe=x_probes, y_probe=y_probes)\n",
    "\n",
    "rho_FFT_PEC, phi_FFT_PEC, efx_FFT_PEC, efy_FFT_PEC, Ex_FFT_PEC, Ey_FFT_PEC = test_new_solver(new_pp_FFT_PEC,\n",
    "                                                                                             xx=x_part,\n",
    "                                                                                             yy=y_part,\n",
    "                                                                                             charge=e,\n",
    "                                                                                             x_probe=x_probes,\n",
    "                                                                                             y_probe=y_probes)\n",
    "\n",
    "#pic gather\n",
    "Ex_FD, Ey_FD = picFD.gather(x_probes, y_probes)\n",
    "Ex_FDSW, Ey_FDSW = picFDSW.gather(x_probes, y_probes)\n",
    "Ex_FFT_old, Ey_FFT_old = picFFT.gather(x_probes, y_probes)\n",
    "Ex_FFT_PEC_old, Ey_FFT_PEC_old = picFFTPEC.gather(x_probes, y_probes)\n",
    "\n",
    "\n",
    "E_r_th = map(lambda x: np.sum(x_part**2+y_part**2<x**2)*qe/eps0/(2*np.pi*x), x_probes)"
   ]
  },
  {
   "cell_type": "code",
   "execution_count": null,
   "metadata": {
    "collapsed": false
   },
   "outputs": [],
   "source": [
    "%matplotlib inline\n",
    "plt.figure()\n",
    "plt.pcolor(phi.reshape(mesh.ny, mesh.nx))\n",
    "plt.colorbar()\n",
    "plt.axis('equal')\n",
    "plt.title('Phi new')\n",
    "plt.show()\n",
    "\n",
    "\n",
    "\n",
    "plt.figure()\n",
    "plt.pcolor(picFDSW.phi.T[3:-2,4:-3])\n",
    "plt.colorbar()\n",
    "plt.title('Phi old, FD')\n",
    "plt.axis('equal')\n",
    "plt.show()\n",
    "\n",
    "plt.figure()\n",
    "plt.pcolor(phi_FFT.reshape(mesh.ny, mesh.nx))\n",
    "plt.colorbar()\n",
    "plt.axis('equal')\n",
    "plt.title('Phi new FFT')\n",
    "plt.show()\n",
    "\n",
    "plt.pcolor(picFFT.phi.T)\n",
    "plt.colorbar()\n",
    "plt.axis('equal')\n",
    "plt.title('Phi old FFT')\n",
    "plt.show()\n",
    "\n",
    "plt.figure()\n",
    "plt.pcolor(picFDSW.efx.T[3:-2,4:-3])\n",
    "plt.colorbar()\n",
    "plt.title('efx old, FD')\n",
    "plt.axis('equal')\n",
    "plt.show()\n",
    "\n",
    "plt.figure()\n",
    "plt.pcolor(efx_FFT.reshape(mesh.ny, mesh.nx))\n",
    "plt.colorbar()\n",
    "plt.axis('equal')\n",
    "plt.title('efx new FFT')\n",
    "plt.show()\n",
    "\n",
    "plt.pcolor(picFFT.efx.T)\n",
    "plt.colorbar()\n",
    "plt.axis('equal')\n",
    "plt.title('efx old FFT')\n",
    "plt.show()"
   ]
  },
  {
   "cell_type": "code",
   "execution_count": null,
   "metadata": {
    "collapsed": false
   },
   "outputs": [],
   "source": [
    "plt.close('all')\n",
    "plt.plot(x_probes, Ex_FD, label = 'FD')\n",
    "plt.plot(x_probes, Ex_FDSW, label = 'FD ShortleyWeller')\n",
    "plt.plot(x_probes, Ex_FFT_old, label = 'FFT open')\n",
    "plt.plot(x_probes, E_r_th, label = 'Analytic')\n",
    "plt.plot(x_probes, Ex, label = 'New FD: ShortleyWeller')\n",
    "#plt.plot(x_probes, Ex_FFT, label = 'New FFT: open')\n",
    "\n",
    "#pl.plot(picFFT.xg, picFFT.efx[picFFT.ny/2, :])\n",
    "plt.legend()\n",
    "plt.ylabel('Ex on the x axis [V/m]')\n",
    "plt.xlabel('x [m]')\n",
    "\n",
    "plt.show()\n",
    "\n",
    "plt.plot(x_probes, Ex_FFT_PEC_old, label = 'FFT PEC')\n",
    "plt.plot(x_probes, Ex_FFT_PEC, label='New FFT: PEC')\n",
    "plt.legend()\n",
    "plt.show()"
   ]
  },
  {
   "cell_type": "code",
   "execution_count": null,
   "metadata": {
    "collapsed": true
   },
   "outputs": [],
   "source": []
  }
 ],
 "metadata": {
  "kernelspec": {
   "display_name": "Python 2",
   "language": "python",
   "name": "python2"
  },
  "language_info": {
   "codemirror_mode": {
    "name": "ipython",
    "version": 2
   },
   "file_extension": ".py",
   "mimetype": "text/x-python",
   "name": "python",
   "nbconvert_exporter": "python",
   "pygments_lexer": "ipython2",
   "version": "2.7.10"
  }
 },
 "nbformat": 4,
 "nbformat_minor": 0
}
