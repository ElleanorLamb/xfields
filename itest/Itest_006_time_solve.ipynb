{
 "cells": [
  {
   "cell_type": "code",
   "execution_count": 1,
   "metadata": {
    "collapsed": false
   },
   "outputs": [
    {
     "ename": "ImportError",
     "evalue": "No module named int_field_for_border",
     "output_type": "error",
     "traceback": [
      "\u001b[1;31m---------------------------------------------------------------------------\u001b[0m",
      "\u001b[1;31mImportError\u001b[0m                               Traceback (most recent call last)",
      "\u001b[1;32m<ipython-input-1-1a2c2dc6aac1>\u001b[0m in \u001b[0;36m<module>\u001b[1;34m()\u001b[0m\n\u001b[0;32m      9\u001b[0m \u001b[1;32mfrom\u001b[0m \u001b[0mscipy\u001b[0m\u001b[1;33m.\u001b[0m\u001b[0mconstants\u001b[0m \u001b[1;32mimport\u001b[0m \u001b[0me\u001b[0m\u001b[1;33m\u001b[0m\u001b[0m\n\u001b[0;32m     10\u001b[0m \u001b[1;32mimport\u001b[0m \u001b[0mgeom_impact_poly\u001b[0m \u001b[1;32mas\u001b[0m \u001b[0mpoly\u001b[0m\u001b[1;33m\u001b[0m\u001b[0m\n\u001b[1;32m---> 11\u001b[1;33m \u001b[1;32mimport\u001b[0m \u001b[0mFiniteDifferences_ShortleyWeller_SquareGrid\u001b[0m \u001b[1;32mas\u001b[0m \u001b[0mPIC_FDSW\u001b[0m\u001b[1;33m\u001b[0m\u001b[0m\n\u001b[0m\u001b[0;32m     12\u001b[0m \u001b[1;32mimport\u001b[0m \u001b[0mFFT_OpenBoundary_SquareGrid\u001b[0m \u001b[1;32mas\u001b[0m \u001b[0mPIC_FFT\u001b[0m\u001b[1;33m\u001b[0m\u001b[0m\n\u001b[0;32m     13\u001b[0m \u001b[1;32mimport\u001b[0m \u001b[0mFFT_PEC_Boundary_SquareGrid\u001b[0m \u001b[1;32mas\u001b[0m \u001b[0mPIC_PEC_FFT\u001b[0m\u001b[1;33m\u001b[0m\u001b[0m\n",
      "\u001b[1;32m/home/shegglin/PyPIC/old/FiniteDifferences_ShortleyWeller_SquareGrid.py\u001b[0m in \u001b[0;36m<module>\u001b[1;34m()\u001b[0m\n\u001b[0;32m     59\u001b[0m \u001b[1;32mfrom\u001b[0m \u001b[0mscipy\u001b[0m\u001b[1;33m.\u001b[0m\u001b[0mconstants\u001b[0m \u001b[1;32mimport\u001b[0m \u001b[0me\u001b[0m\u001b[1;33m,\u001b[0m \u001b[0mepsilon_0\u001b[0m\u001b[1;33m\u001b[0m\u001b[0m\n\u001b[0;32m     60\u001b[0m \u001b[1;33m\u001b[0m\u001b[0m\n\u001b[1;32m---> 61\u001b[1;33m \u001b[1;32mimport\u001b[0m \u001b[0mint_field_for_border\u001b[0m \u001b[1;32mas\u001b[0m \u001b[0miffb\u001b[0m\u001b[1;33m\u001b[0m\u001b[0m\n\u001b[0m\u001b[0;32m     62\u001b[0m \u001b[1;33m\u001b[0m\u001b[0m\n\u001b[0;32m     63\u001b[0m \u001b[1;33m\u001b[0m\u001b[0m\n",
      "\u001b[1;31mImportError\u001b[0m: No module named int_field_for_border"
     ]
    }
   ],
   "source": [
    "import sys\n",
    "sys.path.append('../')\n",
    "sys.path.append('../old/')\n",
    "\n",
    "import matplotlib.pyplot as plt\n",
    "\n",
    "import numpy as np\n",
    "from scipy import rand\n",
    "from scipy.constants import e\n",
    "import geom_impact_poly as poly\n",
    "import FiniteDifferences_ShortleyWeller_SquareGrid as PIC_FDSW\n",
    "import FFT_OpenBoundary_SquareGrid as PIC_FFT\n",
    "import FFT_PEC_Boundary_SquareGrid as PIC_PEC_FFT\n",
    "\n",
    "from pypic import PyPIC_Fortran_M2P_P2M, PyPIC\n",
    "from meshing import RectMesh2D\n",
    "from poisson_solver import FD_solver as FD\n",
    "from poisson_solver import FFT_solver as FFT\n",
    "from poisson_solver.FD_solver import laplacian_2D_5stencil"
   ]
  },
  {
   "cell_type": "code",
   "execution_count": 5,
   "metadata": {
    "collapsed": false
   },
   "outputs": [
    {
     "name": "stdout",
     "output_type": "stream",
     "text": [
      "Mat. assembly 0%\n",
      "Using scipy superlu solver...\n",
      "Done PIC init.\n",
      "Failed to import pyfftw\n",
      "Got exception:  No module named pyfftw\n",
      "Using numpy fft\n",
      "Start PIC init.:\n",
      "Finite Differences, Shortley-Weller, Square Grid\n",
      "Using Shortley-Weller boundary approx.\n",
      "PyPIC Version 1.01\n",
      "Mat. assembly 0%\n",
      "Mat. assembly 5%\n",
      "Mat. assembly 10%\n",
      "Mat. assembly 15%\n",
      "Mat. assembly 20%\n",
      "Mat. assembly 25%\n",
      "Mat. assembly 30%\n",
      "Mat. assembly 35%\n",
      "Mat. assembly 40%\n",
      "Mat. assembly 45%\n",
      "Mat. assembly 50%\n",
      "Mat. assembly 55%\n",
      "Mat. assembly 60%\n",
      "Mat. assembly 65%\n",
      "Mat. assembly 70%\n",
      "Mat. assembly 75%\n",
      "Mat. assembly 80%\n",
      "Mat. assembly 85%\n",
      "Mat. assembly 90%\n",
      "Mat. assembly 95%\n",
      "Mat. assembly 100%\n",
      "Internal nodes with 0 potential\n",
      "[]\n",
      "Using scipy superlu solver...\n",
      "Done PIC init.\n",
      "Start PIC init.:\n",
      "FFT, PEC Boundary, Square Grid\n",
      "PyPIC Version 1.01\n",
      "Failed to import pyfftw\n",
      "Got exception:  No module named pyfftw\n",
      "Using numpy fft\n",
      "Start PIC init.:\n",
      "FFT, Open Boundary, Square Grid\n",
      "PyPIC Version 1.01\n",
      "Failed to import pyfftw\n",
      "Got exception:  No module named pyfftw\n",
      "Using numpy fft\n"
     ]
    }
   ],
   "source": [
    "na = np.array\n",
    "Dh =1e-1\n",
    "N_part_gen = 100000\n",
    "\n",
    "tree = [[0,0],\n",
    "\t\t[1.,0],\n",
    "\t\t[1., 1,],\n",
    "\t\t[5.,1.],\n",
    "\t\t[2.,4.],\n",
    "\t\t[4,4],\n",
    "\t\t[2,7],\n",
    "\t\t[3,7],\n",
    "\t\t[1,9],\n",
    "\t\t[2,9],\n",
    "\t\t[0,11]]\n",
    "\t\t\n",
    "tree=np.array(tree)\n",
    "x_tree = tree[:,0]\n",
    "y_tree = tree[:,1]\n",
    "\n",
    "y_tree -= 6.\n",
    "\n",
    "x_aper = 6.\n",
    "y_aper = 7.\n",
    "\n",
    "x_tree = np.array([0.]+ list(x_tree)+[0.])\n",
    "y_tree = np.array([-y_aper]+ list(y_tree)+[y_aper])\n",
    "\n",
    "\n",
    "\t\t\n",
    "\n",
    "\n",
    "x_part = x_aper*(2.*rand(N_part_gen)-1.)\n",
    "y_part = y_aper*(2.*rand(N_part_gen)-1.)\n",
    "\n",
    "x_on_tree = np.interp(y_part, y_tree, x_tree)\n",
    "\n",
    "mask_keep = np.logical_and(np.abs(x_part)<x_on_tree, np.abs(x_part)>x_on_tree*0.8)\n",
    "x_part = x_part[mask_keep]\n",
    "y_part = y_part[mask_keep]\n",
    "\n",
    "nel_part = 0*x_part+1.\n",
    "\n",
    "\n",
    "\t\t\n",
    "\n",
    "\n",
    "chamber = poly.polyg_cham_geom_object({'Vx':na([x_aper, -x_aper, -x_aper, x_aper]),\n",
    "\t\t\t\t\t\t\t\t\t   'Vy':na([y_aper, y_aper, -y_aper, -y_aper]),\n",
    "\t\t\t\t\t\t\t\t\t   'x_sem_ellip_insc':0.99*x_aper,\n",
    "\t\t\t\t\t\t\t\t\t   'y_sem_ellip_insc':0.99*y_aper})\n",
    "\t\t\t\t\t\t\t\t\t   \n",
    "    \n",
    "poissonsolver = FD.FiniteDifferences_ShortleyWeller_SquareGrid(chamb=chamber, Dh=Dh, ext_boundary=True)\n",
    "poissonsolver_FFT = FFT.FFT_OpenBoundary_SquareGrid(x_aper=chamber.x_aper, y_aper=chamber.y_aper, Dh=Dh)\n",
    "\n",
    "mesh = RectMesh2D(poissonsolver.bias_x,\n",
    "                  poissonsolver.bias_y,\n",
    "                  Dh, Dh,\n",
    "                  poissonsolver.Nxg,\n",
    "                  poissonsolver.Nyg)\n",
    "\n",
    "new_pp = PyPIC_Fortran_M2P_P2M(mesh, poissonsolver)#, gradient=poissonsolver.gradient)\n",
    "new_pp_FFT = PyPIC_Fortran_M2P_P2M(mesh, poissonsolver_FFT)\n",
    "picFDSW = PIC_FDSW.FiniteDifferences_ShortleyWeller_SquareGrid(chamb = chamber, Dh = Dh)\n",
    "picFFTPEC = PIC_PEC_FFT.FFT_PEC_Boundary_SquareGrid(x_aper = chamber.x_aper, y_aper = chamber.y_aper, Dh = Dh, fftlib='pyfftw')\n",
    "picFFT = PIC_FFT.FFT_OpenBoundary_SquareGrid(x_aper = chamber.x_aper, y_aper = chamber.y_aper, Dh = Dh, fftlib='pyfftw')"
   ]
  },
  {
   "cell_type": "code",
   "execution_count": 6,
   "metadata": {
    "collapsed": false
   },
   "outputs": [
    {
     "name": "stdout",
     "output_type": "stream",
     "text": [
      "100 loops, best of 3: 7.57 ms per loop\n",
      "100 loops, best of 3: 16.9 ms per loop\n",
      "10 loops, best of 3: 23 ms per loop\n",
      "100 loops, best of 3: 6.88 ms per loop\n",
      "10 loops, best of 3: 22.7 ms per loop\n"
     ]
    }
   ],
   "source": [
    "picFDSW.scatter(x_part, y_part, nel_part)\n",
    "picFFTPEC.scatter(x_part, y_part, nel_part)\n",
    "picFFT.scatter(x_part, y_part, nel_part)\n",
    "mesh_charges = new_pp.particles_to_mesh(x_part, y_part, charge=e)\n",
    "\n",
    "\n",
    "N_rep = 100\n",
    "\n",
    "%timeit picFDSW.solve()\n",
    "\n",
    "%timeit picFFTPEC.solve()\n",
    "\n",
    "%timeit picFFT.solve()\n",
    "\n",
    "%timeit new_pp.poisson_solve(mesh_charges)\n",
    "\n",
    "%timeit new_pp_FFT.poisson_solve(mesh_charges)\n",
    "# import time\n",
    "# t_start_sw = time.mktime(time.localtime())\n",
    "# for _ in xrange(N_rep):\n",
    "# \tpicFDSW.solve()\n",
    "# t_stop_sw = time.mktime(time.localtime())\n",
    "# t_sw = t_stop_sw-t_start_sw\n",
    "# print 't_sw', t_sw\n",
    "\n",
    "\n",
    "# t_start_fftpec = time.mktime(time.localtime())\n",
    "# for _ in xrange(N_rep):\n",
    "# \tpicFFTPEC.solve()\n",
    "# t_stop_fftpec = time.mktime(time.localtime())\n",
    "# t_fftpec = t_stop_fftpec-t_start_fftpec\n",
    "# print 't_fftpec', t_fftpec\n",
    "\n",
    "\n",
    "# t_start_fftopen = time.mktime(time.localtime())\n",
    "# for _ in xrange(N_rep):\n",
    "# \tpicFFT.solve()\n",
    "# t_stop_fftopen = time.mktime(time.localtime())\n",
    "# t_fftopen = t_stop_fftopen-t_start_fftopen\n",
    "# print 't_fftopen', t_fftopen"
   ]
  },
  {
   "cell_type": "code",
   "execution_count": null,
   "metadata": {
    "collapsed": true
   },
   "outputs": [],
   "source": []
  }
 ],
 "metadata": {
  "kernelspec": {
   "display_name": "Python 2",
   "language": "python",
   "name": "python2"
  },
  "language_info": {
   "codemirror_mode": {
    "name": "ipython",
    "version": 2
   },
   "file_extension": ".py",
   "mimetype": "text/x-python",
   "name": "python",
   "nbconvert_exporter": "python",
   "pygments_lexer": "ipython2",
   "version": "2.7.10"
  }
 },
 "nbformat": 4,
 "nbformat_minor": 0
}
