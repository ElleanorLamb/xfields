{
 "cells": [
  {
   "cell_type": "code",
   "execution_count": 1,
   "metadata": {
    "collapsed": true
   },
   "outputs": [],
   "source": [
    "from pycuda.autoinit import context\n",
    "import pycuda.driver as drv\n",
    "from pycuda import cumath\n",
    "from pycuda import gpuarray\n",
    "import scikits.cuda.fft as cu_fft"
   ]
  },
  {
   "cell_type": "code",
   "execution_count": 2,
   "metadata": {
    "collapsed": false
   },
   "outputs": [
    {
     "name": "stdout",
     "output_type": "stream",
     "text": [
      "PyKLU not found\n"
     ]
    }
   ],
   "source": [
    "from pypic import PyPIC_GPU as PIC\n",
    "from meshing import RectMesh3D\n",
    "from poisson_solver import FFT_solver as FFT\n",
    "import numpy as np\n",
    "import matplotlib.pyplot as plt\n",
    "\n",
    "from scipy.constants import e"
   ]
  },
  {
   "cell_type": "code",
   "execution_count": 3,
   "metadata": {
    "collapsed": false,
    "scrolled": false
   },
   "outputs": [
    {
     "name": "stdout",
     "output_type": "stream",
     "text": [
      "(64, 64, 64)\n"
     ]
    }
   ],
   "source": [
    "# define mesh, poissonsolver and PIC\n",
    "mesh = RectMesh3D(0., 0., 0., 0.01, 0.01, 0.01, 32, 32, 32, mathlib=cumath)\n",
    "poissonsolver = FFT.GPU_FFT_OpenBoundary(mesh, 0)\n",
    "pic = PIC(mesh, poissonsolver, context=context)\n"
   ]
  },
  {
   "cell_type": "code",
   "execution_count": 4,
   "metadata": {
    "collapsed": false
   },
   "outputs": [],
   "source": [
    "# generate particles inside mesh\n",
    "np.random.seed(0)\n",
    "mesh_center_x = mesh.x0 + 0.5*mesh.nx*mesh.dx\n",
    "mesh_center_y = mesh.y0 + 0.5*mesh.ny*mesh.dy\n",
    "mesh_center_z = mesh.z0 + 0.5*mesh.nz*mesh.dz\n",
    "N = 1024\n",
    "xx = np.random.normal(mesh_center_x, 2*mesh.dx, N)\n",
    "yy = np.random.normal(mesh_center_y, 2*mesh.dy, N)\n",
    "zz = np.random.normal(mesh_center_z, 2*mesh.dz, N)\n",
    "assert((xx > mesh.x0).all() and (xx < mesh.x0 + mesh.nx*mesh.dx).all())\n",
    "assert((yy > mesh.y0).all() and (yy < mesh.y0 + mesh.ny*mesh.dy).all())\n",
    "assert((zz > mesh.z0).all() and (zz < mesh.z0 + mesh.nz*mesh.dz).all())\n",
    "xx = gpuarray.to_gpu(xx)\n",
    "yy = gpuarray.to_gpu(yy)\n",
    "zz = gpuarray.to_gpu(zz)"
   ]
  },
  {
   "cell_type": "code",
   "execution_count": 5,
   "metadata": {
    "collapsed": false
   },
   "outputs": [
    {
     "name": "stdout",
     "output_type": "stream",
     "text": [
      "[[[ 0.  0.  1.  1.  1.]\n",
      "  [ 0.  0.  1.  1.  1.]\n",
      "  [ 0.  0.  1.  1.  1.]\n",
      "  [ 1.  1.  1.  1.  1.]\n",
      "  [ 1.  1.  1.  1.  1.]]\n",
      "\n",
      " [[ 0.  0.  1.  1.  1.]\n",
      "  [ 0.  0.  1.  1.  1.]\n",
      "  [ 0.  0.  1.  1.  1.]\n",
      "  [ 1.  1.  1.  1.  1.]\n",
      "  [ 1.  1.  1.  1.  1.]]\n",
      "\n",
      " [[ 0.  0.  1.  1.  1.]\n",
      "  [ 0.  0.  1.  1.  1.]\n",
      "  [ 0.  0.  1.  1.  1.]\n",
      "  [ 1.  1.  1.  1.  1.]\n",
      "  [ 1.  1.  1.  1.  1.]]\n",
      "\n",
      " [[ 0.  0.  1.  1.  1.]\n",
      "  [ 0.  0.  1.  1.  1.]\n",
      "  [ 0.  0.  1.  1.  1.]\n",
      "  [ 1.  1.  1.  1.  1.]\n",
      "  [ 1.  1.  1.  1.  1.]]\n",
      "\n",
      " [[ 0.  0.  1.  1.  1.]\n",
      "  [ 0.  0.  1.  1.  1.]\n",
      "  [ 0.  0.  1.  1.  1.]\n",
      "  [ 1.  1.  1.  1.  1.]\n",
      "  [ 1.  1.  1.  1.  1.]]]\n",
      "(200, 40, 8)\n"
     ]
    }
   ],
   "source": [
    "nx, ny, nz = 3, 4, 5\n",
    "d_src = gpuarray.zeros((nz, ny, nx), dtype=np.float64)\n",
    "d_dst = gpuarray.zeros((5,5,5), dtype=np.float64) + 1\n",
    "cpy = drv.Memcpy3D()\n",
    "cpy.set_src_device(d_src.ptr)\n",
    "cpy.width_in_bytes = d_src.strides[2]*2 # how many bytes per row to copy\n",
    "cpy.height = 3 # number of rows to copy\n",
    "cpy.depth  = 5\n",
    "cpy.src_pitch = d_src.strides[1] #size of a row in bytes at src\n",
    "cpy.dst_pitch = d_dst.strides[1] #size of a row in bytes at dst\n",
    "cpy.set_dst_device(d_dst.ptr)\n",
    "cpy.src_height = ny\n",
    "cpy.dst_height = 5\n",
    "cpy()\n",
    "a = d_dst.get()\n",
    "print(a)\n",
    "print d_dst.strides"
   ]
  },
  {
   "cell_type": "code",
   "execution_count": 6,
   "metadata": {
    "collapsed": false
   },
   "outputs": [],
   "source": [
    "def test_solver(new_solver, xx, yy, zz, charge=e, x_probe=None, y_probe=None, z_probe=None):\n",
    "    '''\n",
    "    Return rho, Phi, efx, efy, Ex, Ey\n",
    "    '''\n",
    "    if x_probe == None:\n",
    "        x_probe = xx\n",
    "    if y_probe == None:\n",
    "        y_probe = yy\n",
    "    if z_probe == None:\n",
    "        z_probe = zz\n",
    "    mesh_charges = new_solver.particles_to_mesh(xx, yy, zz, charge=charge)\n",
    "    rho = mesh_charges/new_solver.mesh.volume_elem\n",
    "    phi = new_solver.poisson_solve(mesh_charges)\n",
    "#     mesh_e_fields = new_solver.get_electric_fields(phi)\n",
    "#     efx = mesh_e_fields[0]\n",
    "#     efy = mesh_e_fields[1]\n",
    "#     efz = mesh_e_fields[2]\n",
    "#     #for i, field in enumerate(mesh_e_fields):\n",
    "#         #mesh_e_fields[i] = field.flatten()\n",
    "#     mesh_fields_and_mp_coords = zip(list(mesh_e_fields), [x_probe, y_probe, z_probe])\n",
    "#     fields = new_solver.field_to_particles(*mesh_fields_and_mp_coords)\n",
    "#     Ex = fields[0]\n",
    "#     Ey = fields[1]\n",
    "#     Ez = fields[2]\n",
    "#     return rho, phi, efx, efy, efz, Ex, Ey, Ez\n",
    "    return rho, phi\n",
    "\n",
    "# rho, phi, efx, efy, efz, Ex, Ey, Ez = test_solver(pic, xx, yy, zz)\n",
    "rho, phi = test_solver(pic, xx, yy, zz)\n",
    "\n"
   ]
  },
  {
   "cell_type": "code",
   "execution_count": 7,
   "metadata": {
    "collapsed": false
   },
   "outputs": [
    {
     "name": "stdout",
     "output_type": "stream",
     "text": [
      "(32, 32, 32)\n"
     ]
    },
    {
     "data": {
      "image/png": "[encoded data removed]",
      "text/plain": [
       "<matplotlib.figure.Figure at 0x7f1388e6db90>"
      ]
     },
     "metadata": {},
     "output_type": "display_data"
    },
    {
     "name": "stdout",
     "output_type": "stream",
     "text": [
      "(32, 32, 32)\n"
     ]
    },
    {
     "data": {
      "image/png": "[encoded data removed]",
      "text/plain": [
       "<matplotlib.figure.Figure at 0x7f1388f6dd90>"
      ]
     },
     "metadata": {},
     "output_type": "display_data"
    }
   ],
   "source": [
    "%matplotlib inline\n",
    "\n",
    "print rho.get().shape\n",
    "plt.imshow(rho.get()[mesh.nz//2], origin='lower', interpolation='none')\n",
    "plt.colorbar()\n",
    "plt.show()\n",
    "\n",
    "print phi.get().shape\n",
    "plt.imshow(phi.get()[mesh.nz//2], origin='lower', interpolation='none')\n",
    "plt.colorbar()\n",
    "plt.show()\n",
    "\n",
    "# print efx.get().shape\n",
    "# plt.imshow(efx.get()[mesh.nz//2], origin='lower')\n",
    "# plt.show()\n",
    "\n",
    "# print efy.get().shape\n",
    "# plt.imshow(efy.get()[mesh.nz//2], origin='lower')\n",
    "# plt.show()\n"
   ]
  },
  {
   "cell_type": "code",
   "execution_count": 8,
   "metadata": {
    "collapsed": false
   },
   "outputs": [
    {
     "name": "stdout",
     "output_type": "stream",
     "text": [
      "[[[ 6000.     0.     0. ...,    -0.     0.    -0.]\n",
      "  [    0.     0.     0. ...,    -0.     0.    -0.]\n",
      "  [    0.    -0.     0. ...,    -0.     0.    -0.]\n",
      "  ..., \n",
      "  [    0.     0.     0. ...,    -0.     0.    -0.]\n",
      "  [    0.    -0.     0. ...,    -0.     0.    -0.]\n",
      "  [    0.    -0.     0. ...,    -0.     0.    -0.]]\n",
      "\n",
      " [[    0.    -0.     0. ...,    -0.     0.    -0.]\n",
      "  [    0.    -0.     0. ...,    -0.     0.    -0.]\n",
      "  [    0.    -0.     0. ...,     0.     0.    -0.]\n",
      "  ..., \n",
      "  [    0.    -0.     0. ...,    -0.     0.    -0.]\n",
      "  [    0.    -0.     0. ...,     0.     0.    -0.]\n",
      "  [    0.    -0.     0. ...,     0.     0.     0.]]\n",
      "\n",
      " [[    0.    -0.     0. ...,     0.     0.     0.]\n",
      "  [    0.     0.     0. ...,     0.     0.     0.]\n",
      "  [    0.     0.     0. ...,     0.     0.     0.]\n",
      "  ..., \n",
      "  [    0.     0.     0. ...,     0.     0.     0.]\n",
      "  [    0.     0.     0. ...,     0.     0.     0.]\n",
      "  [    0.     0.     0. ...,     0.     0.     0.]]\n",
      "\n",
      " ..., \n",
      " [[    0.     0.     0. ...,     0.     0.     0.]\n",
      "  [    0.     0.     0. ...,     0.     0.     0.]\n",
      "  [    0.     0.     0. ...,     0.     0.     0.]\n",
      "  ..., \n",
      "  [    0.     0.     0. ...,     0.     0.     0.]\n",
      "  [    0.     0.     0. ...,     0.     0.     0.]\n",
      "  [    0.     0.     0. ...,    -0.     0.     0.]]\n",
      "\n",
      " [[    0.     0.     0. ...,    -0.     0.    -0.]\n",
      "  [    0.     0.     0. ...,    -0.     0.    -0.]\n",
      "  [    0.    -0.     0. ...,    -0.     0.    -0.]\n",
      "  ..., \n",
      "  [    0.     0.     0. ...,    -0.     0.    -0.]\n",
      "  [    0.    -0.     0. ...,    -0.     0.    -0.]\n",
      "  [    0.    -0.     0. ...,    -0.     0.    -0.]]\n",
      "\n",
      " [[    0.    -0.     0. ...,    -0.     0.    -0.]\n",
      "  [    0.    -0.     0. ...,    -0.     0.    -0.]\n",
      "  [    0.    -0.     0. ...,     0.     0.    -0.]\n",
      "  ..., \n",
      "  [    0.    -0.     0. ...,    -0.     0.    -0.]\n",
      "  [    0.    -0.     0. ...,     0.     0.    -0.]\n",
      "  [    0.    -0.     0. ...,     0.     0.     0.]]]\n"
     ]
    }
   ],
   "source": [
    "xx = np.zeros((10,20,30))\n",
    "x = gpuarray.zeros(xx.shape, dtype=np.float64) + 1\n",
    "y = gpuarray.zeros_like(x) + 1\n",
    "plan = cu_fft.Plan(x.shape, np.float64, np.complex128)\n",
    "cu_fft.fft(x,y,plan)\n",
    "print(y.get())"
   ]
  },
  {
   "cell_type": "code",
   "execution_count": 9,
   "metadata": {
    "collapsed": true
   },
   "outputs": [],
   "source": [
    "def fft3(array_3d):\n",
    "    # 1. all rows: fft\n",
    "    # 2. all cols: fft\n",
    "    # 3. all ... : fft\n",
    "    nz, ny, nx = array_3d.shape\n",
    "    plan_f_x = cu_fft.Plan(nx, in_dtype = np.float64, out_dtype=np.complex128,\n",
    "                           batch=nx*ny )"
   ]
  }
 ],
 "metadata": {
  "kernelspec": {
   "display_name": "Python 2",
   "language": "python",
   "name": "python2"
  },
  "language_info": {
   "codemirror_mode": {
    "name": "ipython",
    "version": 2
   },
   "file_extension": ".py",
   "mimetype": "text/x-python",
   "name": "python",
   "nbconvert_exporter": "python",
   "pygments_lexer": "ipython2",
   "version": "2.7.10"
  }
 },
 "nbformat": 4,
 "nbformat_minor": 0
}
